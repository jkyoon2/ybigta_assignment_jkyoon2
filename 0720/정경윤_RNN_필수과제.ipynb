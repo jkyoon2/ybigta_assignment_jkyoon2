{
  "cells": [
    {
      "cell_type": "markdown",
      "metadata": {
        "id": "DfHj2g1PIJXU"
      },
      "source": [
        "# **Recurrent Neural Networks - 필수 과제**\n",
        "\n",
        "**LSTM**을 구현해봅시다!\n",
        "<br><br><br>\n",
        "**필요 사전 지식**:\n",
        "\n",
        "- <u>PyTorch</u> (선택 과제 1)\n",
        "\n",
        "<br>\n",
        "\n",
        "**추가 사전 지식**: (알면 좋으나 몰라도 괜찮음)\n",
        "\n",
        "- <u>Tokenization</u>, <u>Word Embedding</u> (선택 과제 2)\n",
        "\n",
        "<br><br><br><br><br>"
      ]
    },
    {
      "cell_type": "code",
      "execution_count": 1,
      "metadata": {
        "colab": {
          "base_uri": "https://localhost:8080/"
        },
        "id": "Wfs7l5t_IJXl",
        "outputId": "a3621c28-8bca-4224-b8b7-f9b298cdc8c9"
      },
      "outputs": [
        {
          "output_type": "stream",
          "name": "stdout",
          "text": [
            "Requirement already satisfied: transformers in /usr/local/lib/python3.10/dist-packages (4.31.0)\n",
            "Requirement already satisfied: filelock in /usr/local/lib/python3.10/dist-packages (from transformers) (3.12.2)\n",
            "Requirement already satisfied: huggingface-hub<1.0,>=0.14.1 in /usr/local/lib/python3.10/dist-packages (from transformers) (0.16.4)\n",
            "Requirement already satisfied: numpy>=1.17 in /usr/local/lib/python3.10/dist-packages (from transformers) (1.22.4)\n",
            "Requirement already satisfied: packaging>=20.0 in /usr/local/lib/python3.10/dist-packages (from transformers) (23.1)\n",
            "Requirement already satisfied: pyyaml>=5.1 in /usr/local/lib/python3.10/dist-packages (from transformers) (6.0.1)\n",
            "Requirement already satisfied: regex!=2019.12.17 in /usr/local/lib/python3.10/dist-packages (from transformers) (2022.10.31)\n",
            "Requirement already satisfied: requests in /usr/local/lib/python3.10/dist-packages (from transformers) (2.27.1)\n",
            "Requirement already satisfied: tokenizers!=0.11.3,<0.14,>=0.11.1 in /usr/local/lib/python3.10/dist-packages (from transformers) (0.13.3)\n",
            "Requirement already satisfied: safetensors>=0.3.1 in /usr/local/lib/python3.10/dist-packages (from transformers) (0.3.1)\n",
            "Requirement already satisfied: tqdm>=4.27 in /usr/local/lib/python3.10/dist-packages (from transformers) (4.65.0)\n",
            "Requirement already satisfied: fsspec in /usr/local/lib/python3.10/dist-packages (from huggingface-hub<1.0,>=0.14.1->transformers) (2023.6.0)\n",
            "Requirement already satisfied: typing-extensions>=3.7.4.3 in /usr/local/lib/python3.10/dist-packages (from huggingface-hub<1.0,>=0.14.1->transformers) (4.7.1)\n",
            "Requirement already satisfied: urllib3<1.27,>=1.21.1 in /usr/local/lib/python3.10/dist-packages (from requests->transformers) (1.26.16)\n",
            "Requirement already satisfied: certifi>=2017.4.17 in /usr/local/lib/python3.10/dist-packages (from requests->transformers) (2023.5.7)\n",
            "Requirement already satisfied: charset-normalizer~=2.0.0 in /usr/local/lib/python3.10/dist-packages (from requests->transformers) (2.0.12)\n",
            "Requirement already satisfied: idna<4,>=2.5 in /usr/local/lib/python3.10/dist-packages (from requests->transformers) (3.4)\n",
            "Requirement already satisfied: datasets in /usr/local/lib/python3.10/dist-packages (2.14.0)\n",
            "Requirement already satisfied: numpy>=1.17 in /usr/local/lib/python3.10/dist-packages (from datasets) (1.22.4)\n",
            "Requirement already satisfied: pyarrow>=8.0.0 in /usr/local/lib/python3.10/dist-packages (from datasets) (9.0.0)\n",
            "Requirement already satisfied: dill<0.3.8,>=0.3.0 in /usr/local/lib/python3.10/dist-packages (from datasets) (0.3.7)\n",
            "Requirement already satisfied: pandas in /usr/local/lib/python3.10/dist-packages (from datasets) (1.5.3)\n",
            "Requirement already satisfied: requests>=2.19.0 in /usr/local/lib/python3.10/dist-packages (from datasets) (2.27.1)\n",
            "Requirement already satisfied: tqdm>=4.62.1 in /usr/local/lib/python3.10/dist-packages (from datasets) (4.65.0)\n",
            "Requirement already satisfied: xxhash in /usr/local/lib/python3.10/dist-packages (from datasets) (3.2.0)\n",
            "Requirement already satisfied: multiprocess in /usr/local/lib/python3.10/dist-packages (from datasets) (0.70.15)\n",
            "Requirement already satisfied: fsspec[http]>=2021.11.1 in /usr/local/lib/python3.10/dist-packages (from datasets) (2023.6.0)\n",
            "Requirement already satisfied: aiohttp in /usr/local/lib/python3.10/dist-packages (from datasets) (3.8.4)\n",
            "Requirement already satisfied: huggingface-hub<1.0.0,>=0.14.0 in /usr/local/lib/python3.10/dist-packages (from datasets) (0.16.4)\n",
            "Requirement already satisfied: packaging in /usr/local/lib/python3.10/dist-packages (from datasets) (23.1)\n",
            "Requirement already satisfied: pyyaml>=5.1 in /usr/local/lib/python3.10/dist-packages (from datasets) (6.0.1)\n",
            "Requirement already satisfied: attrs>=17.3.0 in /usr/local/lib/python3.10/dist-packages (from aiohttp->datasets) (23.1.0)\n",
            "Requirement already satisfied: charset-normalizer<4.0,>=2.0 in /usr/local/lib/python3.10/dist-packages (from aiohttp->datasets) (2.0.12)\n",
            "Requirement already satisfied: multidict<7.0,>=4.5 in /usr/local/lib/python3.10/dist-packages (from aiohttp->datasets) (6.0.4)\n",
            "Requirement already satisfied: async-timeout<5.0,>=4.0.0a3 in /usr/local/lib/python3.10/dist-packages (from aiohttp->datasets) (4.0.2)\n",
            "Requirement already satisfied: yarl<2.0,>=1.0 in /usr/local/lib/python3.10/dist-packages (from aiohttp->datasets) (1.9.2)\n",
            "Requirement already satisfied: frozenlist>=1.1.1 in /usr/local/lib/python3.10/dist-packages (from aiohttp->datasets) (1.4.0)\n",
            "Requirement already satisfied: aiosignal>=1.1.2 in /usr/local/lib/python3.10/dist-packages (from aiohttp->datasets) (1.3.1)\n",
            "Requirement already satisfied: filelock in /usr/local/lib/python3.10/dist-packages (from huggingface-hub<1.0.0,>=0.14.0->datasets) (3.12.2)\n",
            "Requirement already satisfied: typing-extensions>=3.7.4.3 in /usr/local/lib/python3.10/dist-packages (from huggingface-hub<1.0.0,>=0.14.0->datasets) (4.7.1)\n",
            "Requirement already satisfied: urllib3<1.27,>=1.21.1 in /usr/local/lib/python3.10/dist-packages (from requests>=2.19.0->datasets) (1.26.16)\n",
            "Requirement already satisfied: certifi>=2017.4.17 in /usr/local/lib/python3.10/dist-packages (from requests>=2.19.0->datasets) (2023.5.7)\n",
            "Requirement already satisfied: idna<4,>=2.5 in /usr/local/lib/python3.10/dist-packages (from requests>=2.19.0->datasets) (3.4)\n",
            "Requirement already satisfied: python-dateutil>=2.8.1 in /usr/local/lib/python3.10/dist-packages (from pandas->datasets) (2.8.2)\n",
            "Requirement already satisfied: pytz>=2020.1 in /usr/local/lib/python3.10/dist-packages (from pandas->datasets) (2022.7.1)\n",
            "Requirement already satisfied: six>=1.5 in /usr/local/lib/python3.10/dist-packages (from python-dateutil>=2.8.1->pandas->datasets) (1.16.0)\n"
          ]
        }
      ],
      "source": [
        "!pip install transformers\n",
        "!pip install datasets"
      ]
    },
    {
      "cell_type": "code",
      "execution_count": 2,
      "metadata": {
        "id": "0afED9r8IJXp"
      },
      "outputs": [],
      "source": [
        "import torch\n",
        "from torch import nn, optim\n",
        "from torch.utils.data import DataLoader\n",
        "\n",
        "from transformers import AutoModel, AutoTokenizer\n",
        "from datasets import load_dataset\n",
        "\n",
        "from tqdm import tqdm"
      ]
    },
    {
      "cell_type": "markdown",
      "metadata": {
        "id": "X53Io9imIJXt"
      },
      "source": [
        "<br><br>\n",
        "\n",
        "[Hugging Face](https://huggingface.co)에서 [Rotten Tomatoes dataset](https://huggingface.co/datasets/rotten_tomatoes)과 [pretrained BERT](https://huggingface.co/bert-base-uncased)의 tokenizer를 가져오겠습니다.\n",
        "\n",
        "또 학습 부담을 줄이기 위해 pretrained BERT에 내장된 word embedding layer의 weight도 가져옵시다."
      ]
    },
    {
      "cell_type": "code",
      "execution_count": 3,
      "metadata": {
        "id": "evwsHps0IJXv"
      },
      "outputs": [],
      "source": [
        "# https://huggingface.co/datasets/rotten_tomatoes\n",
        "dataset = load_dataset(\"rotten_tomatoes\")\n",
        "\n",
        "# https://huggingface.co/bert-base-uncased\n",
        "pretrained_tokenizer = AutoTokenizer.from_pretrained(\"bert-base-uncased\")   # Hugging Face's Transformers library가 제공하는 bert-base-uncased tokenizer # input text를 token으로 쪼갬\n",
        "pretrained_embeddings = AutoModel.from_pretrained(\"bert-base-uncased\").embeddings.word_embeddings\n",
        "# AutoModel : 제공된 identifier (bert-based-uncased)에 기반하여 적절한 모델 아키텍쳐를 나타냄"
      ]
    },
    {
      "cell_type": "markdown",
      "metadata": {
        "id": "2PVV4G4-IJXw"
      },
      "source": [
        "<br><br>\n",
        "\n",
        "기본 BERT는 token을 768차원 벡터로 embedding합니다. 우리의 작은 dataset과 작은 모델에게 768차원은 부담스러우니 PCA를 사용해 64차원으로 줄여줍시다."
      ]
    },
    {
      "cell_type": "code",
      "execution_count": 4,
      "metadata": {
        "id": "aUHFWMTxIJXy"
      },
      "outputs": [],
      "source": [
        "nano_embed = torch.pca_lowrank(pretrained_embeddings.weight.detach(), q=64)[0]\n",
        "\n",
        "# pretrained_embeddings.weight.detach() : pretrained_embedding으로부터 워드 임베딩 행렬 추출\n",
        "# .detach() : computational graph로부터 텐서 분리 ??\n",
        "# torch.pca_lowrank(input, q=64) : input data를 q = 64 차원으로 차원 축소\n",
        "# [0] : PCA-transformed tensor\n",
        "\n",
        "# nano_embed 차원 : 64\n",
        "# BERT word embedding 차원 : 768"
      ]
    },
    {
      "cell_type": "markdown",
      "metadata": {
        "id": "ehprIM5GIJX0"
      },
      "source": [
        "<br><br>\n",
        "\n",
        "그런데 무작정 64차원으로 줄여도 되는 걸까요? BERT의 d_model이 괜히 768도 아닐 테고, 정보의 손실이 아주 클 것 같은데 말입니다.\n",
        "\n",
        "궁금하니 코사인 유사도로 축소된 embedding layer에 token들의 정보가 그럭저럭 잘 남아있는지 확인해봅시다."
      ]
    },
    {
      "cell_type": "code",
      "execution_count": 5,
      "metadata": {
        "id": "VxAKpOIWIJX2"
      },
      "outputs": [],
      "source": [
        "# 코사인 유사도를 통해 고차원 공간의 벡터와 저차원 임베딩 벡터의 유사도를 계산할 수 있음\n",
        "\n",
        "cos = (nano_embed @ nano_embed.T) / (nano_embed.abs() @ nano_embed.abs().T)"
      ]
    },
    {
      "cell_type": "code",
      "execution_count": 6,
      "metadata": {
        "colab": {
          "base_uri": "https://localhost:8080/"
        },
        "id": "AkzK1zW6IJX3",
        "outputId": "7f01654c-ba08-41e6-8638-6bede08aaf01"
      },
      "outputs": [
        {
          "output_type": "execute_result",
          "data": {
            "text/plain": [
              "['parkway',\n",
              " 'mississippi',\n",
              " 'kelly',\n",
              " 'won',\n",
              " 'since',\n",
              " 'michigan',\n",
              " 'jack',\n",
              " '##yn',\n",
              " 'grabs',\n",
              " 'taken',\n",
              " 'taking',\n",
              " 'twice',\n",
              " 'minnesota',\n",
              " 'democrats',\n",
              " 'again',\n",
              " 'winning',\n",
              " 'pride',\n",
              " 'pennsylvania',\n",
              " 'lions',\n",
              " 'kicker']"
            ]
          },
          "metadata": {},
          "execution_count": 6
        }
      ],
      "source": [
        "# word에 다양한 값을 넣어보세요! tokenizer의 vocab에 없는 token에 대해서는 빈 list가 뜹니다.\n",
        "word = \"jackson\"\n",
        "\n",
        "# BERT의 pretrained tokenizer를 이용하여 word(jackson)과 가장 유사한 단어를 추출함\n",
        "\n",
        "([*map(pretrained_tokenizer.decode, cos[pretrained_tokenizer.vocab[word]].argsort(descending=True)[1:21])] if word in pretrained_tokenizer.vocab else [])"
      ]
    },
    {
      "cell_type": "markdown",
      "metadata": {
        "id": "DOSyaGsjIJX5"
      },
      "source": [
        "꽤 잘 남아있는 것 같습니다.\n",
        "\n",
        "(TMI: 조금 더 욕심을 부려 한번 32차원으로 줄여보면 무시하기 어려운 정보의 손실을 체감할 수 있습니다.)\n",
        "\n",
        "<br><br>"
      ]
    },
    {
      "cell_type": "markdown",
      "metadata": {
        "id": "bP6QHiE6IJX6"
      },
      "source": [
        "이제 LSTM을 구현합시다! 사실 원래 BiLSTM으로 하려고 했는데 underfitting이 심해서 그냥 plain LSTM으로 준비했습니다."
      ]
    },
    {
      "cell_type": "markdown",
      "metadata": {
        "id": "pc5j9T56IJX6"
      },
      "source": [
        "<br><br><br><br>\n",
        "#### <span style=\"color:red\">**<u>Q1.</u>**</span>\n",
        "\n",
        "`class LSTMCell`의 빈칸을 채우세요."
      ]
    },
    {
      "cell_type": "code",
      "execution_count": 7,
      "metadata": {
        "id": "l-u_CouEIJX7"
      },
      "outputs": [],
      "source": [
        "class LSTMCell(nn.Module):\n",
        "    def __init__(self, d_x, d_h): # d_x: x의 차원수 (scalar int)\n",
        "                                  # d_h: h의 차원수 (scalar int)\n",
        "        super().__init__()\n",
        "        d_stack = d_x + d_h\n",
        "\n",
        "        dim1 = d_x + d_h    # input gate의 input dim\n",
        "        dim2 = d_h          # input gate의 ouput dim\n",
        "        dim3 = d_x + d_h    # cell state의 input dim\n",
        "        dim4 = d_h          # cell state의 output dim\n",
        "        dim5 = d_x + d_h    # output gate의 input dim\n",
        "        dim6 = d_h          # output gate의 output dim\n",
        "\n",
        "        self.W_f = nn.Linear(d_stack, d_h)  # forget gate의 weight matrix\n",
        "        self.W_i = nn.Linear(dim1, dim2)    # input gate의 weight matrix\n",
        "        self.W_C = nn.Linear(dim3, dim4)    # cell state의 weight matrix\n",
        "        self.W_o = nn.Linear(dim5, dim6)    # output gate의 weight matrix\n",
        "\n",
        "\n",
        "    # forward는 t-1의 h_{t-1}, C_{t-1}과 t의 x_t를 입력으로 받아 계산합니다.\n",
        "\n",
        "    def forward(self, x, h, C): # x: x_t\n",
        "                                # h: h_{h-1}\n",
        "                                # C: C_{t-1}\n",
        "        stack = torch.cat([x, h])\n",
        "\n",
        "        f =  torch.sigmoid(self.W_f(stack))\n",
        "        i =  torch.sigmoid(self.W_i(stack))\n",
        "        C_ = self.W_C(stack).tanh()\n",
        "\n",
        "        C_t = f * C + i * C_\n",
        "\n",
        "        o =  torch.sigmoid(self.W_o(stack))\n",
        "        h_t = o * C_t.tanh()\n",
        "\n",
        "        return h_t, C_t"
      ]
    },
    {
      "cell_type": "code",
      "execution_count": 8,
      "metadata": {
        "id": "k-VOqhBLIJX8"
      },
      "outputs": [],
      "source": [
        "class LSTM(nn.Module):\n",
        "    def __init__(self, vocab_size, d_out, pretrained_embeddings):\n",
        "        '''\n",
        "        vocab_size : 단어의 개수\n",
        "        d_out : output dim.\n",
        "        pretrained_embeddings : 워드 임베딩 층을 초기화하기 위한 pretrained word embeddding\n",
        "        '''\n",
        "\n",
        "        super().__init__()\n",
        "        vocab_size = pretrained_embeddings.shape[0]\n",
        "        d_h = d_model = pretrained_embeddings.shape[1]\n",
        "\n",
        "        self.embed = nn.Embedding(vocab_size, d_model, _weight=pretrained_embeddings.clone()) # word embedding layer : 워드 인덱스를 워드 임베딩으로 전환\n",
        "        self.cell = LSTMCell(d_x=d_model, d_h=d_h) # LSTM cell\n",
        "        self.out = nn.Linear(d_h, d_out, bias=True) # output layer : LSTM hidden state와 최종 output과 연결\n",
        "\n",
        "        self.h_init = nn.Parameter(torch.zeros(d_h), requires_grad=False) # initial h : 파라미터를 0으로 초기화함\n",
        "        self.C_init = nn.Parameter(torch.zeros(d_h), requires_grad=False) # initial C\n",
        "\n",
        "    def forward(self, input_ids):\n",
        "        embedded = self.embed(input_ids).squeeze()\n",
        "\n",
        "        h = self.h_init.clone() # h 초기화\n",
        "        C = self.C_init.clone() # C 초기화\n",
        "        for x in embedded:\n",
        "            h, C = self.cell(x, h, C) # iterate over embedded sequence\n",
        "\n",
        "        return self.out(h).squeeze() # last hidden state를 output layer에 통과시킨 값을 반환"
      ]
    },
    {
      "cell_type": "markdown",
      "metadata": {
        "id": "1ddwSxgZIJX9"
      },
      "source": [
        "<br><br><br><br>\n",
        "#### <span style=\"color:red\">**<u>Q2.</u>**</span>\n",
        "\n",
        "Test accuracy가 0.7 이상이 되도록 모델을 훈련시키세요."
      ]
    },
    {
      "cell_type": "code",
      "execution_count": 9,
      "metadata": {
        "id": "WNnTo_3tIJX-"
      },
      "outputs": [],
      "source": [
        "######################### START OF YOUR CODE #########################\n",
        "\n",
        "# 필요에 따라 바꿔도 됩니다.\n",
        "device = \"cuda\"\n",
        "\n",
        "########################## END OF YOUR CODE ##########################\n",
        "\n",
        "model = LSTM(vocab_size=pretrained_tokenizer.vocab_size, d_out=1, pretrained_embeddings=nano_embed).to(device)"
      ]
    },
    {
      "cell_type": "code",
      "execution_count": 10,
      "metadata": {
        "id": "HqdomJ_LIJX_"
      },
      "outputs": [],
      "source": [
        "######################### START OF YOUR CODE #########################\n",
        "\n",
        "# learning rate을 적절히 수정해보세요.\n",
        "lr = 2.5e-03\n",
        "\n",
        "########################## END OF YOUR CODE ##########################\n",
        "\n",
        "criterion = nn.BCEWithLogitsLoss()\n",
        "optimizer = optim.Adam(model.parameters(), lr=lr)"
      ]
    },
    {
      "cell_type": "code",
      "execution_count": 11,
      "metadata": {
        "id": "EbdJQyhoIJYA"
      },
      "outputs": [],
      "source": [
        "train_loader = DataLoader(dataset[\"train\"], shuffle=True)"
      ]
    },
    {
      "cell_type": "code",
      "execution_count": 12,
      "metadata": {
        "id": "6dQlSKtCIJYA",
        "outputId": "58923236-9b01-43cf-8f9d-5fe1c5bc6465",
        "colab": {
          "base_uri": "https://localhost:8080/"
        }
      },
      "outputs": [
        {
          "output_type": "stream",
          "name": "stderr",
          "text": [
            "  6%|▌         | 505/8530 [00:14<03:29, 38.35it/s]"
          ]
        },
        {
          "output_type": "stream",
          "name": "stdout",
          "text": [
            "  500 iter: 0.6974375984668731\n"
          ]
        },
        {
          "output_type": "stream",
          "name": "stderr",
          "text": [
            " 12%|█▏        | 1005/8530 [00:28<03:16, 38.33it/s]"
          ]
        },
        {
          "output_type": "stream",
          "name": "stdout",
          "text": [
            " 1000 iter: 0.6923452249765396\n"
          ]
        },
        {
          "output_type": "stream",
          "name": "stderr",
          "text": [
            " 18%|█▊        | 1506/8530 [00:43<03:23, 34.58it/s]"
          ]
        },
        {
          "output_type": "stream",
          "name": "stdout",
          "text": [
            " 1500 iter: 0.6688418378233909\n"
          ]
        },
        {
          "output_type": "stream",
          "name": "stderr",
          "text": [
            " 24%|██▎       | 2006/8530 [00:58<02:37, 41.51it/s]"
          ]
        },
        {
          "output_type": "stream",
          "name": "stdout",
          "text": [
            " 2000 iter: 0.6566415005624294\n"
          ]
        },
        {
          "output_type": "stream",
          "name": "stderr",
          "text": [
            " 29%|██▉       | 2505/8530 [01:12<02:42, 37.09it/s]"
          ]
        },
        {
          "output_type": "stream",
          "name": "stdout",
          "text": [
            " 2500 iter: 0.639109272480011\n"
          ]
        },
        {
          "output_type": "stream",
          "name": "stderr",
          "text": [
            " 35%|███▌      | 3006/8530 [01:27<02:22, 38.73it/s]"
          ]
        },
        {
          "output_type": "stream",
          "name": "stdout",
          "text": [
            " 3000 iter: 0.5924060068130493\n"
          ]
        },
        {
          "output_type": "stream",
          "name": "stderr",
          "text": [
            " 41%|████      | 3506/8530 [01:41<02:04, 40.24it/s]"
          ]
        },
        {
          "output_type": "stream",
          "name": "stdout",
          "text": [
            " 3500 iter: 0.6331566034555435\n"
          ]
        },
        {
          "output_type": "stream",
          "name": "stderr",
          "text": [
            " 47%|████▋     | 4003/8530 [01:55<02:00, 37.46it/s]"
          ]
        },
        {
          "output_type": "stream",
          "name": "stdout",
          "text": [
            " 4000 iter: 0.6208857785910368\n"
          ]
        },
        {
          "output_type": "stream",
          "name": "stderr",
          "text": [
            " 53%|█████▎    | 4504/8530 [02:10<01:37, 41.34it/s]"
          ]
        },
        {
          "output_type": "stream",
          "name": "stdout",
          "text": [
            " 4500 iter: 0.5858930350840091\n"
          ]
        },
        {
          "output_type": "stream",
          "name": "stderr",
          "text": [
            " 59%|█████▊    | 5005/8530 [02:24<01:54, 30.87it/s]"
          ]
        },
        {
          "output_type": "stream",
          "name": "stdout",
          "text": [
            " 5000 iter: 0.575037311270833\n"
          ]
        },
        {
          "output_type": "stream",
          "name": "stderr",
          "text": [
            " 65%|██████▍   | 5504/8530 [02:38<01:17, 39.24it/s]"
          ]
        },
        {
          "output_type": "stream",
          "name": "stdout",
          "text": [
            " 5500 iter: 0.5592440562546254\n"
          ]
        },
        {
          "output_type": "stream",
          "name": "stderr",
          "text": [
            " 70%|███████   | 6009/8530 [02:53<01:02, 40.45it/s]"
          ]
        },
        {
          "output_type": "stream",
          "name": "stdout",
          "text": [
            " 6000 iter: 0.5812840927392244\n"
          ]
        },
        {
          "output_type": "stream",
          "name": "stderr",
          "text": [
            " 76%|███████▌  | 6504/8530 [03:07<00:56, 36.05it/s]"
          ]
        },
        {
          "output_type": "stream",
          "name": "stdout",
          "text": [
            " 6500 iter: 0.5389042174965143\n"
          ]
        },
        {
          "output_type": "stream",
          "name": "stderr",
          "text": [
            " 82%|████████▏ | 7003/8530 [03:22<00:41, 36.40it/s]"
          ]
        },
        {
          "output_type": "stream",
          "name": "stdout",
          "text": [
            " 7000 iter: 0.5502943687587977\n"
          ]
        },
        {
          "output_type": "stream",
          "name": "stderr",
          "text": [
            " 88%|████████▊ | 7508/8530 [03:36<00:25, 40.21it/s]"
          ]
        },
        {
          "output_type": "stream",
          "name": "stdout",
          "text": [
            " 7500 iter: 0.5351800694465637\n"
          ]
        },
        {
          "output_type": "stream",
          "name": "stderr",
          "text": [
            " 94%|█████████▍| 8008/8530 [03:50<00:12, 43.17it/s]"
          ]
        },
        {
          "output_type": "stream",
          "name": "stdout",
          "text": [
            " 8000 iter: 0.5285812260359526\n"
          ]
        },
        {
          "output_type": "stream",
          "name": "stderr",
          "text": [
            "100%|█████████▉| 8506/8530 [04:05<00:00, 36.09it/s]"
          ]
        },
        {
          "output_type": "stream",
          "name": "stdout",
          "text": [
            " 8500 iter: 0.5231588250100613\n"
          ]
        },
        {
          "output_type": "stream",
          "name": "stderr",
          "text": [
            "100%|██████████| 8530/8530 [04:06<00:00, 34.67it/s]\n"
          ]
        }
      ],
      "source": [
        "num_print = 500\n",
        "num_batch = 10\n",
        "\n",
        "# List to store loss value\n",
        "loss_values = []\n",
        "\n",
        "\n",
        "# train\n",
        "\n",
        "save_l = 0\n",
        "optimizer.zero_grad()\n",
        "\n",
        "\n",
        "for i, data in enumerate(tqdm(train_loader)):\n",
        "    text, label = data[\"text\"][0], data[\"label\"][0]\n",
        "    input_ids = pretrained_tokenizer.encode(text, return_tensors=\"pt\").to(device)\n",
        "    y_pred = model(input_ids)\n",
        "\n",
        "    label = label.to(device) * 1.\n",
        "    loss = criterion(y_pred, label)\n",
        "    loss.backward()\n",
        "\n",
        "    if not (i+1)%num_batch:\n",
        "        optimizer.step()\n",
        "        optimizer.zero_grad()\n",
        "\n",
        "    save_l += loss.item()\n",
        "\n",
        "    # append loss value\n",
        "    loss_values.append(loss.item())\n",
        "\n",
        "    if not (i+1)%num_print:\n",
        "        print(f\"{i+1:>5} iter: {save_l/num_print}\")\n",
        "        save_l = 0"
      ]
    },
    {
      "cell_type": "code",
      "source": [
        "# plot loss\n",
        "\n",
        "import matplotlib.pyplot as plt\n",
        "import matplotlib.ticker as ticker\n",
        "\n",
        "# 손실함수를 그려서 학습 과정을 시각화함\n",
        "\n",
        "plt.figure(figsize = (10, 6))\n",
        "plt.plot(loss_values, label = 'Training Loss')\n",
        "plt.xlabel('Iterations')\n",
        "plt.ylabel('Loss')\n",
        "plt.title('Training Loss')\n",
        "plt.grid(True)\n",
        "plt.show()"
      ],
      "metadata": {
        "colab": {
          "base_uri": "https://localhost:8080/",
          "height": 424
        },
        "id": "FDPT9xl3jOHx",
        "outputId": "91131708-b18b-4ae5-b10d-5c1cae19fa79"
      },
      "execution_count": 13,
      "outputs": [
        {
          "output_type": "display_data",
          "data": {
            "text/plain": [
              "<Figure size 1000x600 with 1 Axes>"
            ],
            "image/png": "[encoded data removed]"
          },
          "metadata": {}
        }
      ]
    },
    {
      "cell_type": "code",
      "execution_count": 14,
      "metadata": {
        "id": "vS0SqdncIJYB",
        "colab": {
          "base_uri": "https://localhost:8080/"
        },
        "outputId": "1caa412d-cea4-4597-e3a1-59141af499fb"
      },
      "outputs": [
        {
          "output_type": "stream",
          "name": "stderr",
          "text": [
            "100%|██████████| 1066/1066 [00:10<00:00, 101.13it/s]"
          ]
        },
        {
          "output_type": "stream",
          "name": "stdout",
          "text": [
            "Test accuracy: 0.7420262664165104\n"
          ]
        },
        {
          "output_type": "stream",
          "name": "stderr",
          "text": [
            "\n"
          ]
        }
      ],
      "source": [
        "test_loader = DataLoader(dataset[\"test\"], shuffle=True)\n",
        "\n",
        "\n",
        "# test\n",
        "\n",
        "res = torch.tensor(0)\n",
        "with torch.no_grad():\n",
        "    for i, data in enumerate(tqdm(test_loader)):\n",
        "        text, label = data[\"text\"][0], data[\"label\"][0]\n",
        "        input_ids = pretrained_tokenizer.encode(text, return_tensors=\"pt\").to(device)\n",
        "        y_pred = model(input_ids)\n",
        "        res += ((1 if y_pred > 0 else 0) == label)\n",
        "\n",
        "print(\"Test accuracy:\", res.item() / dataset[\"test\"].num_rows)"
      ]
    },
    {
      "cell_type": "code",
      "execution_count": 15,
      "metadata": {
        "id": "KSdpx6JGIJYC",
        "outputId": "1f39200e-bfe0-4beb-e58f-20bb05efc3e1",
        "colab": {
          "base_uri": "https://localhost:8080/"
        }
      },
      "outputs": [
        {
          "output_type": "stream",
          "name": "stdout",
          "text": [
            "{'text': 'return to never land is much more p . c . than the original version ( no more racist portraits of indians , for instance ) , but the excitement is missing .', 'label': 0}\n",
            "0.17686238884925842\n"
          ]
        }
      ],
      "source": [
        "# 관찰용\n",
        "# n 값을 바꿔가며 훈련시킨 모델의 예측값을 구경해보세요\n",
        "n = 589\n",
        "\n",
        "print(dataset[\"test\"][n])\n",
        "with torch.no_grad():\n",
        "    print(model(pretrained_tokenizer.encode(dataset[\"test\"][n][\"text\"], return_tensors=\"pt\").to(device)).sigmoid().item())"
      ]
    },
    {
      "cell_type": "code",
      "source": [],
      "metadata": {
        "id": "ilyjNcjlDpVI"
      },
      "execution_count": 15,
      "outputs": []
    }
  ],
  "metadata": {
    "kernelspec": {
      "display_name": "Python 3",
      "name": "python3"
    },
    "language_info": {
      "codemirror_mode": {
        "name": "ipython",
        "version": 3
      },
      "file_extension": ".py",
      "mimetype": "text/x-python",
      "name": "python",
      "nbconvert_exporter": "python",
      "pygments_lexer": "ipython3",
      "version": "3.8.10"
    },
    "colab": {
      "provenance": [],
      "gpuType": "T4"
    },
    "accelerator": "GPU"
  },
  "nbformat": 4,
  "nbformat_minor": 0
}