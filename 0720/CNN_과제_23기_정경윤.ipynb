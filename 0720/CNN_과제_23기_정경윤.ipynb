{
  "cells": [
    {
      "cell_type": "code",
      "execution_count": 19,
      "metadata": {
        "id": "JZxvpsbK_KPA"
      },
      "outputs": [],
      "source": [
        "import numpy as np\n",
        "import matplotlib.pyplot as plt\n",
        "\n",
        "import torch\n",
        "import torch.nn as nn\n",
        "import torchvision\n",
        "import torchvision.transforms as T\n",
        "\n",
        "import pickle\n"
      ]
    },
    {
      "cell_type": "code",
      "execution_count": 20,
      "metadata": {
        "colab": {
          "base_uri": "https://localhost:8080/"
        },
        "id": "yFAX7zz4Q7TW",
        "outputId": "9ec6c8a5-06cb-4753-db2f-62f909ead460"
      },
      "outputs": [
        {
          "output_type": "stream",
          "name": "stdout",
          "text": [
            "device: cuda\n"
          ]
        }
      ],
      "source": [
        "# Device configuration\n",
        "\n",
        "if torch.cuda.is_available():\n",
        "    device = torch.device('cuda')\n",
        "else:\n",
        "    device = torch.device('cpu')\n",
        "\n",
        "print('device:', device)"
      ]
    },
    {
      "cell_type": "code",
      "execution_count": 21,
      "metadata": {
        "id": "IMrkSUyKQuaC"
      },
      "outputs": [],
      "source": [
        "from IPython.display import HTML, display\n",
        "\n",
        "\n",
        "# Custom IPython progress bar for training\n",
        "class ProgressMonitor(object):\n",
        "    # 학습 과정의 progress를 추적하여 현재 loss value와 progress bar를 display\n",
        "\n",
        "    tmpl = \"\"\"\n",
        "        <table style=\"width: 100%;\">\n",
        "            <tbody>\n",
        "                <tr>\n",
        "                    <td style=\"width: 30%;\">\n",
        "                     <b>Loss: {loss:0.4f}</b> &nbsp&nbsp&nbsp {value} / {length}\n",
        "                    </td>\n",
        "                    <td style=\"width: 70%;\">\n",
        "                        <progress value='{value}' max='{length}', style='width: 100%'>{value}</progress>\n",
        "                    </td>\n",
        "                </tr>\n",
        "            </tbody>\n",
        "        </table>\n",
        "        \"\"\"\n",
        "\n",
        "    def __init__(self, length):\n",
        "        self.length = length\n",
        "        self.count = 0\n",
        "        self.display = display(self.html(0, 0), display_id=True)\n",
        "\n",
        "    def html(self, count, loss):\n",
        "        return HTML(self.tmpl.format(length=self.length, value=count, loss=loss))\n",
        "\n",
        "    def update(self, count, loss):\n",
        "        self.count += count\n",
        "        self.display.update(self.html(self.count, loss))"
      ]
    },
    {
      "cell_type": "code",
      "execution_count": 22,
      "metadata": {
        "id": "vZgdPtMKB2kP",
        "colab": {
          "base_uri": "https://localhost:8080/"
        },
        "outputId": "13346b01-dd03-40f5-c46f-95296e8390f9"
      },
      "outputs": [
        {
          "output_type": "stream",
          "name": "stdout",
          "text": [
            "Files already downloaded and verified\n",
            "Files already downloaded and verified\n"
          ]
        }
      ],
      "source": [
        "# CIFAR-10 dataset의 data transformation (data preprocessing)\n",
        "\n",
        "transform_train = T.Compose( [T.RandomCrop(32, padding=4), T.ToTensor(), T.Normalize( (0.5, 0.5, 0.5), (0.5, 0.5, 0.5) )] )\n",
        "'''\n",
        "T.RandomCrop(32, padding = 4)\n",
        "- input image : 32 * 32 size + 4 padding pixel\n",
        "- training data에 diversity 주는 data augmentation 기술 (본 이미지로부터 랜덤하게 패치 추출)\n",
        "'''\n",
        "# data augmentation : 32 * 32 size에 padding 4로 랜덤하게 이미지 crop\n",
        "# tensor conversion & scaling\n",
        "# tensor normalization : subtract 0.5 & divide 0.5 for each channel\n",
        "transform_test = T.Compose( [T.ToTensor(), T.Normalize( (0.5, 0.5, 0.5), (0.5, 0.5, 0.5) )] )\n",
        "'''\n",
        "T.ToTensor()\n",
        "- input image : NumPy array , range [0, 255]\n",
        "- output : PyTorch tensor, range [0, 1]\n",
        "'''\n",
        "# tensor conversion & scaling\n",
        "# tensor normalization : subtract 0.5 & divide 0.5 for each channel\n",
        "\n",
        "train_set = torchvision.datasets.CIFAR10('./data', train=True, download=True, transform=transform_train )\n",
        "# CIFAR-10 학습데이터에 대한 인스턴스 생성\n",
        "# transform_train transformation 수행\n",
        "\n",
        "test_set = torchvision.datasets.CIFAR10('./data', train=False, download=True, transform=transform_test )\n",
        "# CIFAR-10 test data에 대한 인스턴스 생성\n",
        "# transform_test transformation 수행\n",
        "\n",
        "\n",
        "classes = train_set.classes     # CIFAR-10 dataset에 대한 클래스 레이블 저장"
      ]
    },
    {
      "cell_type": "code",
      "execution_count": 23,
      "metadata": {
        "colab": {
          "base_uri": "https://localhost:8080/"
        },
        "id": "7YmtRUX2Chc-",
        "outputId": "ead49f92-074c-4ce6-df0d-88d1d6b3d168"
      },
      "outputs": [
        {
          "output_type": "stream",
          "name": "stdout",
          "text": [
            "(50000, 32, 32, 3)\n",
            "(10000, 32, 32, 3)\n"
          ]
        }
      ],
      "source": [
        "print(train_set.data.shape)\n",
        "print(test_set.data.shape)"
      ]
    },
    {
      "cell_type": "code",
      "execution_count": 24,
      "metadata": {
        "id": "0LjBgQWTAQBi"
      },
      "outputs": [],
      "source": [
        "# 과제 1- SimpleCNN의 오류를 없애라!\n",
        "# Hint- matrix의 size를 주의! maxpooling은 size를 1/2배한다. filter의 size도 중요\n",
        "\n",
        "class SimpleCNN(nn.Module):\n",
        "\n",
        "    def __init__(self):\n",
        "        super().__init__()\n",
        "\n",
        "        #### 입력 이미지 크기 32x32x3\n",
        "        self.conv_layers = nn.Sequential(\n",
        "            nn.Conv2d(in_channels=3, out_channels=64, kernel_size=3, padding=1),\n",
        "            nn.BatchNorm2d(64),\n",
        "            nn.ReLU(),\n",
        "\n",
        "            nn.Conv2d(in_channels=64, out_channels=64, kernel_size=3, padding=1),\n",
        "            nn.BatchNorm2d(64),\n",
        "            nn.ReLU(),\n",
        "\n",
        "            nn.MaxPool2d(2),\n",
        "\n",
        "            nn.Conv2d(in_channels=64, out_channels=128, kernel_size=3, padding=1),\n",
        "            nn.BatchNorm2d(128),\n",
        "            nn.ReLU(),\n",
        "\n",
        "            nn.MaxPool2d(2),\n",
        "        )\n",
        "\n",
        "        self.fc_layers = nn.Sequential(\n",
        "            nn.Linear(128 * 8 * 8, 500),  # 마지막 convolutional layer에 맞게 flattened size 맞추기\n",
        "\n",
        "            nn.Linear(500, 10),\n",
        "        )\n",
        "\n",
        "    def forward(self, x):\n",
        "        x = self.conv_layers(x)\n",
        "        x = x.view(x.size(0), -1)  # Flatten\n",
        "        x = self.fc_layers(x)\n",
        "        return x"
      ]
    },
    {
      "cell_type": "code",
      "execution_count": 25,
      "metadata": {
        "id": "-lKWDBrDqNNH",
        "colab": {
          "base_uri": "https://localhost:8080/"
        },
        "outputId": "093c084a-3af5-432c-cbb4-175c000cbd1e"
      },
      "outputs": [
        {
          "output_type": "stream",
          "name": "stdout",
          "text": [
            "torch.Size([7, 10])\n"
          ]
        }
      ],
      "source": [
        "# 모델 테스트\n",
        "# 텐서의 사이즈가 (7, 10)이 나오면 성공\n",
        "# 현재는 오류가 뜨는 상황! matrix size를 잘 맞춰서 이 코드가 정상적으로 구동되면 성공입니다.\n",
        "\n",
        "temp = SimpleCNN()\n",
        "output = torch.randn( 7, 3, 32, 32)\n",
        "\n",
        "print( temp(output).size() )\n"
      ]
    },
    {
      "cell_type": "markdown",
      "source": [
        "## ResNet\n",
        "- 개요 : skip-connection을 통해 Residual을 학습할 수 있다\n",
        "- implementation\n",
        "    - Resblock : 1 * 1 convolution으로 channel depth를 줄이는 bottleneck 이후 3 * 3 convolution을 실시하고, 다시 1 * 1 convolution을 취함\n",
        "    "
      ],
      "metadata": {
        "id": "cfiFREfYL6Gd"
      }
    },
    {
      "cell_type": "code",
      "source": [
        "# 실습 2- Resnet-18 구현하기\n",
        "# Hint- layer를 지나간 뒤 input을 더해주어야 한다, stride말고 maxpool로 size 줄여도 괜찮습니다.\n",
        "\n",
        "class BasicBlock(nn.Module):\n",
        "    expansion = 1\n",
        "\n",
        "    def __init__(self, in_channels, out_channels, stride = 1):\n",
        "        super(BasicBlock, self).__init__()\n",
        "\n",
        "        # stride 통해 높이와 너비 조정\n",
        "        self.conv1 = nn.Conv2d(in_channels, out_channels, kernel_size = 3, stride = stride, padding = 1, bias = False)\n",
        "        self.bn1 = nn.BatchNorm2d(out_channels)\n",
        "        self.relu = nn.ReLU(inplace = True)\n",
        "\n",
        "        # stride = 1, padding = 1이므로 높이와 너비 유지\n",
        "        self.conv2 = nn.Conv2d(out_channels, out_channels, kernel_size = 3, stride = 1, padding = 1, bias = False)\n",
        "        self.bn2 = nn.BatchNorm2d(out_channels)\n",
        "\n",
        "        # x 그대로 더해줌\n",
        "        self.shortcut = nn.Sequential()\n",
        "\n",
        "        # 만약 size 안 맞아서 합 연산 불가할 경우, 연산 가능하도록 모양 맞춰줌\n",
        "        if stride != 1 or in_channels != out_channels:\n",
        "            self.shortcut = nn.Sequential(\n",
        "                nn.Conv2d(in_channels, out_channels, kernel_size = 1, stride = stride, bias = False),\n",
        "                nn.BatchNorm2d(out_channels)\n",
        "            )\n",
        "\n",
        "    def forward(self, x):\n",
        "        residual = x\n",
        "        out = self.conv1(x)\n",
        "        out = self.bn1(out)\n",
        "        out = self.relu(out)\n",
        "        out = self.conv2(out)\n",
        "        out = self.bn2(out)\n",
        "        out += self.shortcut(x)     # 필요에 따라 layer skip\n",
        "        out = self.relu(out)\n",
        "        return out\n",
        "\n",
        "\n",
        "class ResNet(nn.Module):\n",
        "    def __init__(self, block, num_blocks, num_classes = 10):\n",
        "        super(ResNet, self).__init__()\n",
        "        # RGB 3개의 channel, 64개의 kernel 사용\n",
        "        self.in_channels = 64\n",
        "        # ResNet Model의 Layer\n",
        "        self.conv1 = nn.Conv2d(3, 64, kernel_size=3, stride=1, padding=1, bias=False)\n",
        "        self.bn1 = nn.BatchNorm2d(64)\n",
        "        self.relu = nn.ReLU(inplace=True)\n",
        "        self.layer1 = self.make_layer(block, 64, num_blocks[0], stride=1)\n",
        "        self.layer2 = self.make_layer(block, 128, num_blocks[1], stride=2)\n",
        "        self.layer3 = self.make_layer(block, 256, num_blocks[2], stride=2)\n",
        "        self.layer4 = self.make_layer(block, 512, num_blocks[3], stride=2)\n",
        "        self.avg_pool = nn.AdaptiveAvgPool2d((1, 1))\n",
        "        self.fc = nn.Linear(512 * block.expansion, num_classes)\n",
        "\n",
        "    # 다양한 architecture 생성 위해 make_layer로 sequential 생성\n",
        "    def make_layer(self, block, out_channels, num_blocks, stride):\n",
        "        strides = [stride] + [1] * (num_blocks - 1)\n",
        "        layers = []\n",
        "        for stride in strides:\n",
        "            layers.append(block(self.in_channels, out_channels, stride))\n",
        "            self.in_channels = out_channels * block.expansion\n",
        "        return nn.Sequential(*layers)\n",
        "\n",
        "    def forward(self, x):\n",
        "        out = self.conv1(x)\n",
        "        out = self.bn1(out)\n",
        "        out = self.relu(out)\n",
        "        out = self.layer1(out)\n",
        "        out = self.layer2(out)\n",
        "        out = self.layer3(out)\n",
        "        out = self.layer4(out)\n",
        "        out = self.avg_pool(out)\n",
        "        out = out.view(out.size(0), -1)\n",
        "        out = self.fc(out)\n",
        "        return out\n",
        "\n",
        "def ResNet18():\n",
        "    return ResNet(BasicBlock, [2, 2, 2, 2])"
      ],
      "metadata": {
        "id": "VqA6Q2pBBDyd"
      },
      "execution_count": 34,
      "outputs": []
    },
    {
      "cell_type": "code",
      "source": [
        "# Resnet 모델 테스트\n",
        "# 텐서의 사이즈가 (7, 10)이 나오면 성공\n",
        "\n",
        "temp = ResNet18()   # ResNet18 model 인스턴스 생성\n",
        "output = torch.randn(7, 3, 32, 32)  # (batch_size, channels, height, width)\n",
        "\n",
        "print(temp(output).size())  # forward pass\n"
      ],
      "metadata": {
        "id": "gMYDgEURCsIb",
        "colab": {
          "base_uri": "https://localhost:8080/"
        },
        "outputId": "824ca3e7-46aa-4e4e-f3dc-f29c0ee7a1a3"
      },
      "execution_count": 35,
      "outputs": [
        {
          "output_type": "stream",
          "name": "stdout",
          "text": [
            "torch.Size([7, 10])\n"
          ]
        }
      ]
    },
    {
      "cell_type": "code",
      "execution_count": 36,
      "metadata": {
        "id": "FtKz3gmF_NTT"
      },
      "outputs": [],
      "source": [
        "batch_size = 128 # 배치 사이즈\n",
        "learning_rate = 0.01 # 학습률\n",
        "num_epochs = 30 # 에폭 수"
      ]
    },
    {
      "cell_type": "code",
      "execution_count": 37,
      "metadata": {
        "id": "XqBcfSB9QQbW"
      },
      "outputs": [],
      "source": [
        "train_loader = torch.utils.data.DataLoader(train_set, batch_size=batch_size, shuffle=True)\n",
        "test_loader = torch.utils.data.DataLoader(test_set, batch_size=batch_size, shuffle=False)"
      ]
    },
    {
      "cell_type": "code",
      "execution_count": 38,
      "metadata": {
        "id": "z2Fe9zzeQzRB",
        "colab": {
          "base_uri": "https://localhost:8080/"
        },
        "outputId": "54e07954-a811-4b98-faec-02c74307ff7b"
      },
      "outputs": [
        {
          "output_type": "execute_result",
          "data": {
            "text/plain": [
              "ResNet(\n",
              "  (conv1): Conv2d(3, 64, kernel_size=(3, 3), stride=(1, 1), padding=(1, 1), bias=False)\n",
              "  (bn1): BatchNorm2d(64, eps=1e-05, momentum=0.1, affine=True, track_running_stats=True)\n",
              "  (relu): ReLU(inplace=True)\n",
              "  (layer1): Sequential(\n",
              "    (0): BasicBlock(\n",
              "      (conv1): Conv2d(64, 64, kernel_size=(3, 3), stride=(1, 1), padding=(1, 1), bias=False)\n",
              "      (bn1): BatchNorm2d(64, eps=1e-05, momentum=0.1, affine=True, track_running_stats=True)\n",
              "      (relu): ReLU(inplace=True)\n",
              "      (conv2): Conv2d(64, 64, kernel_size=(3, 3), stride=(1, 1), padding=(1, 1), bias=False)\n",
              "      (bn2): BatchNorm2d(64, eps=1e-05, momentum=0.1, affine=True, track_running_stats=True)\n",
              "      (shortcut): Sequential()\n",
              "    )\n",
              "    (1): BasicBlock(\n",
              "      (conv1): Conv2d(64, 64, kernel_size=(3, 3), stride=(1, 1), padding=(1, 1), bias=False)\n",
              "      (bn1): BatchNorm2d(64, eps=1e-05, momentum=0.1, affine=True, track_running_stats=True)\n",
              "      (relu): ReLU(inplace=True)\n",
              "      (conv2): Conv2d(64, 64, kernel_size=(3, 3), stride=(1, 1), padding=(1, 1), bias=False)\n",
              "      (bn2): BatchNorm2d(64, eps=1e-05, momentum=0.1, affine=True, track_running_stats=True)\n",
              "      (shortcut): Sequential()\n",
              "    )\n",
              "  )\n",
              "  (layer2): Sequential(\n",
              "    (0): BasicBlock(\n",
              "      (conv1): Conv2d(64, 128, kernel_size=(3, 3), stride=(2, 2), padding=(1, 1), bias=False)\n",
              "      (bn1): BatchNorm2d(128, eps=1e-05, momentum=0.1, affine=True, track_running_stats=True)\n",
              "      (relu): ReLU(inplace=True)\n",
              "      (conv2): Conv2d(128, 128, kernel_size=(3, 3), stride=(1, 1), padding=(1, 1), bias=False)\n",
              "      (bn2): BatchNorm2d(128, eps=1e-05, momentum=0.1, affine=True, track_running_stats=True)\n",
              "      (shortcut): Sequential(\n",
              "        (0): Conv2d(64, 128, kernel_size=(1, 1), stride=(2, 2), bias=False)\n",
              "        (1): BatchNorm2d(128, eps=1e-05, momentum=0.1, affine=True, track_running_stats=True)\n",
              "      )\n",
              "    )\n",
              "    (1): BasicBlock(\n",
              "      (conv1): Conv2d(128, 128, kernel_size=(3, 3), stride=(1, 1), padding=(1, 1), bias=False)\n",
              "      (bn1): BatchNorm2d(128, eps=1e-05, momentum=0.1, affine=True, track_running_stats=True)\n",
              "      (relu): ReLU(inplace=True)\n",
              "      (conv2): Conv2d(128, 128, kernel_size=(3, 3), stride=(1, 1), padding=(1, 1), bias=False)\n",
              "      (bn2): BatchNorm2d(128, eps=1e-05, momentum=0.1, affine=True, track_running_stats=True)\n",
              "      (shortcut): Sequential()\n",
              "    )\n",
              "  )\n",
              "  (layer3): Sequential(\n",
              "    (0): BasicBlock(\n",
              "      (conv1): Conv2d(128, 256, kernel_size=(3, 3), stride=(2, 2), padding=(1, 1), bias=False)\n",
              "      (bn1): BatchNorm2d(256, eps=1e-05, momentum=0.1, affine=True, track_running_stats=True)\n",
              "      (relu): ReLU(inplace=True)\n",
              "      (conv2): Conv2d(256, 256, kernel_size=(3, 3), stride=(1, 1), padding=(1, 1), bias=False)\n",
              "      (bn2): BatchNorm2d(256, eps=1e-05, momentum=0.1, affine=True, track_running_stats=True)\n",
              "      (shortcut): Sequential(\n",
              "        (0): Conv2d(128, 256, kernel_size=(1, 1), stride=(2, 2), bias=False)\n",
              "        (1): BatchNorm2d(256, eps=1e-05, momentum=0.1, affine=True, track_running_stats=True)\n",
              "      )\n",
              "    )\n",
              "    (1): BasicBlock(\n",
              "      (conv1): Conv2d(256, 256, kernel_size=(3, 3), stride=(1, 1), padding=(1, 1), bias=False)\n",
              "      (bn1): BatchNorm2d(256, eps=1e-05, momentum=0.1, affine=True, track_running_stats=True)\n",
              "      (relu): ReLU(inplace=True)\n",
              "      (conv2): Conv2d(256, 256, kernel_size=(3, 3), stride=(1, 1), padding=(1, 1), bias=False)\n",
              "      (bn2): BatchNorm2d(256, eps=1e-05, momentum=0.1, affine=True, track_running_stats=True)\n",
              "      (shortcut): Sequential()\n",
              "    )\n",
              "  )\n",
              "  (layer4): Sequential(\n",
              "    (0): BasicBlock(\n",
              "      (conv1): Conv2d(256, 512, kernel_size=(3, 3), stride=(2, 2), padding=(1, 1), bias=False)\n",
              "      (bn1): BatchNorm2d(512, eps=1e-05, momentum=0.1, affine=True, track_running_stats=True)\n",
              "      (relu): ReLU(inplace=True)\n",
              "      (conv2): Conv2d(512, 512, kernel_size=(3, 3), stride=(1, 1), padding=(1, 1), bias=False)\n",
              "      (bn2): BatchNorm2d(512, eps=1e-05, momentum=0.1, affine=True, track_running_stats=True)\n",
              "      (shortcut): Sequential(\n",
              "        (0): Conv2d(256, 512, kernel_size=(1, 1), stride=(2, 2), bias=False)\n",
              "        (1): BatchNorm2d(512, eps=1e-05, momentum=0.1, affine=True, track_running_stats=True)\n",
              "      )\n",
              "    )\n",
              "    (1): BasicBlock(\n",
              "      (conv1): Conv2d(512, 512, kernel_size=(3, 3), stride=(1, 1), padding=(1, 1), bias=False)\n",
              "      (bn1): BatchNorm2d(512, eps=1e-05, momentum=0.1, affine=True, track_running_stats=True)\n",
              "      (relu): ReLU(inplace=True)\n",
              "      (conv2): Conv2d(512, 512, kernel_size=(3, 3), stride=(1, 1), padding=(1, 1), bias=False)\n",
              "      (bn2): BatchNorm2d(512, eps=1e-05, momentum=0.1, affine=True, track_running_stats=True)\n",
              "      (shortcut): Sequential()\n",
              "    )\n",
              "  )\n",
              "  (avg_pool): AdaptiveAvgPool2d(output_size=(1, 1))\n",
              "  (fc): Linear(in_features=512, out_features=10, bias=True)\n",
              ")"
            ]
          },
          "metadata": {},
          "execution_count": 38
        }
      ],
      "source": [
        "# 원하는 모델을 돌려보세요\n",
        "\n",
        "model = ResNet18()\n",
        "\n",
        "model.to(device)"
      ]
    },
    {
      "cell_type": "code",
      "execution_count": 39,
      "metadata": {
        "id": "JcuWxEnnRfGX"
      },
      "outputs": [],
      "source": [
        "# Loss Function\n",
        "criterion = nn.CrossEntropyLoss()\n",
        "# optimizer 선정\n",
        "optimizer = torch.optim.Adam(model.parameters(), lr=learning_rate)\n"
      ]
    },
    {
      "cell_type": "code",
      "execution_count": 40,
      "metadata": {
        "id": "SHkcPL-RRmEA"
      },
      "outputs": [],
      "source": [
        "from statistics import mean\n",
        "\n",
        "def train(optimizer, model, num_epochs=10, first_epoch=1):\n",
        "\n",
        "    criterion = nn.CrossEntropyLoss()\n",
        "\n",
        "    train_losses = []\n",
        "    test_losses = []\n",
        "\n",
        "    for epoch in range(first_epoch, first_epoch + num_epochs):\n",
        "        print('Epoch', epoch)\n",
        "\n",
        "        # train phase\n",
        "        model.train()\n",
        "\n",
        "        # create a progress bar\n",
        "        progress = ProgressMonitor(length=len(train_set))\n",
        "\n",
        "        # keep track of predictions\n",
        "        correct_train = 0\n",
        "\n",
        "        batch_losses = []\n",
        "\n",
        "        for batch, targets in train_loader:\n",
        "\n",
        "            # Move the training data to the GPU\n",
        "            batch = batch.to(device)\n",
        "            targets = targets.to(device)\n",
        "\n",
        "            # clear previous gradient computation\n",
        "            optimizer.zero_grad()\n",
        "\n",
        "            # forward propagation\n",
        "            outputs = model(batch)\n",
        "\n",
        "            # calculate the loss\n",
        "            loss = criterion(outputs, targets)\n",
        "\n",
        "            # backpropagate to compute gradients\n",
        "            loss.backward()\n",
        "\n",
        "            # update model weights\n",
        "            optimizer.step()\n",
        "\n",
        "            batch_losses.append(loss.item())\n",
        "\n",
        "            # accumulate correct count\n",
        "            _, preds = torch.max(outputs, 1)\n",
        "            correct_train += torch.sum(preds == targets.data)\n",
        "\n",
        "            # update progress bar\n",
        "            progress.update(batch.shape[0], mean(batch_losses) )\n",
        "\n",
        "\n",
        "        train_losses.append( mean(batch_losses))\n",
        "\n",
        "\n",
        "        # test phase\n",
        "        model.eval()\n",
        "\n",
        "        y_pred = []\n",
        "\n",
        "        correct_test = 0\n",
        "\n",
        "        # We don't need gradients for test, so wrap in\n",
        "        # no_grad to save memory\n",
        "        with torch.no_grad():\n",
        "\n",
        "            for batch, targets in test_loader:\n",
        "\n",
        "                # Move the training batch to the GPU\n",
        "                batch = batch.to(device)\n",
        "                targets = targets.to(device)\n",
        "\n",
        "                # forward propagation\n",
        "                outputs = model(batch)\n",
        "\n",
        "                # calculate the loss\n",
        "                loss = criterion(outputs, targets)\n",
        "\n",
        "                # save predictions\n",
        "                y_pred.extend( outputs.argmax(dim=1).cpu().numpy() )\n",
        "\n",
        "                # accumulate correct count\n",
        "                _, preds = torch.max(outputs, 1)\n",
        "                correct_test += torch.sum(preds == targets.data)\n",
        "\n",
        "\n",
        "        # Calculate accuracy\n",
        "        train_acc = correct_train.item() / train_set.data.shape[0]\n",
        "        test_acc = correct_test.item() / test_set.data.shape[0]\n",
        "\n",
        "        print('Training accuracy: {:.2f}%'.format(float(train_acc) * 100))\n",
        "        print('Test accuracy: {:.2f}%\\n'.format(float(test_acc) * 100))\n",
        "\n",
        "\n",
        "    return train_losses, test_losses, y_pred"
      ]
    },
    {
      "cell_type": "code",
      "execution_count": 41,
      "metadata": {
        "id": "iPgk2q20Rq6Q",
        "colab": {
          "base_uri": "https://localhost:8080/",
          "height": 1000
        },
        "outputId": "33b562b7-1781-4f44-bd90-c7c05eefd93a"
      },
      "outputs": [
        {
          "output_type": "stream",
          "name": "stdout",
          "text": [
            "Epoch 1\n"
          ]
        },
        {
          "output_type": "display_data",
          "data": {
            "text/plain": [
              "<IPython.core.display.HTML object>"
            ],
            "text/html": [
              "\n",
              "        <table style=\"width: 100%;\">\n",
              "            <tbody>\n",
              "                <tr>\n",
              "                    <td style=\"width: 30%;\">\n",
              "                     <b>Loss: 1.8528</b> &nbsp&nbsp&nbsp 50000 / 50000\n",
              "                    </td>\n",
              "                    <td style=\"width: 70%;\">\n",
              "                        <progress value='50000' max='50000', style='width: 100%'>50000</progress>\n",
              "                    </td>\n",
              "                </tr>\n",
              "            </tbody>\n",
              "        </table>\n",
              "        "
            ]
          },
          "metadata": {}
        },
        {
          "output_type": "stream",
          "name": "stdout",
          "text": [
            "Training accuracy: 32.04%\n",
            "Test accuracy: 39.70%\n",
            "\n",
            "Epoch 2\n"
          ]
        },
        {
          "output_type": "display_data",
          "data": {
            "text/plain": [
              "<IPython.core.display.HTML object>"
            ],
            "text/html": [
              "\n",
              "        <table style=\"width: 100%;\">\n",
              "            <tbody>\n",
              "                <tr>\n",
              "                    <td style=\"width: 30%;\">\n",
              "                     <b>Loss: 1.3852</b> &nbsp&nbsp&nbsp 50000 / 50000\n",
              "                    </td>\n",
              "                    <td style=\"width: 70%;\">\n",
              "                        <progress value='50000' max='50000', style='width: 100%'>50000</progress>\n",
              "                    </td>\n",
              "                </tr>\n",
              "            </tbody>\n",
              "        </table>\n",
              "        "
            ]
          },
          "metadata": {}
        },
        {
          "output_type": "stream",
          "name": "stdout",
          "text": [
            "Training accuracy: 48.56%\n",
            "Test accuracy: 52.86%\n",
            "\n",
            "Epoch 3\n"
          ]
        },
        {
          "output_type": "display_data",
          "data": {
            "text/plain": [
              "<IPython.core.display.HTML object>"
            ],
            "text/html": [
              "\n",
              "        <table style=\"width: 100%;\">\n",
              "            <tbody>\n",
              "                <tr>\n",
              "                    <td style=\"width: 30%;\">\n",
              "                     <b>Loss: 1.0644</b> &nbsp&nbsp&nbsp 50000 / 50000\n",
              "                    </td>\n",
              "                    <td style=\"width: 70%;\">\n",
              "                        <progress value='50000' max='50000', style='width: 100%'>50000</progress>\n",
              "                    </td>\n",
              "                </tr>\n",
              "            </tbody>\n",
              "        </table>\n",
              "        "
            ]
          },
          "metadata": {}
        },
        {
          "output_type": "stream",
          "name": "stdout",
          "text": [
            "Training accuracy: 61.94%\n",
            "Test accuracy: 65.17%\n",
            "\n",
            "Epoch 4\n"
          ]
        },
        {
          "output_type": "display_data",
          "data": {
            "text/plain": [
              "<IPython.core.display.HTML object>"
            ],
            "text/html": [
              "\n",
              "        <table style=\"width: 100%;\">\n",
              "            <tbody>\n",
              "                <tr>\n",
              "                    <td style=\"width: 30%;\">\n",
              "                     <b>Loss: 0.8475</b> &nbsp&nbsp&nbsp 50000 / 50000\n",
              "                    </td>\n",
              "                    <td style=\"width: 70%;\">\n",
              "                        <progress value='50000' max='50000', style='width: 100%'>50000</progress>\n",
              "                    </td>\n",
              "                </tr>\n",
              "            </tbody>\n",
              "        </table>\n",
              "        "
            ]
          },
          "metadata": {}
        },
        {
          "output_type": "stream",
          "name": "stdout",
          "text": [
            "Training accuracy: 70.01%\n",
            "Test accuracy: 70.04%\n",
            "\n",
            "Epoch 5\n"
          ]
        },
        {
          "output_type": "display_data",
          "data": {
            "text/plain": [
              "<IPython.core.display.HTML object>"
            ],
            "text/html": [
              "\n",
              "        <table style=\"width: 100%;\">\n",
              "            <tbody>\n",
              "                <tr>\n",
              "                    <td style=\"width: 30%;\">\n",
              "                     <b>Loss: 0.6794</b> &nbsp&nbsp&nbsp 50000 / 50000\n",
              "                    </td>\n",
              "                    <td style=\"width: 70%;\">\n",
              "                        <progress value='50000' max='50000', style='width: 100%'>50000</progress>\n",
              "                    </td>\n",
              "                </tr>\n",
              "            </tbody>\n",
              "        </table>\n",
              "        "
            ]
          },
          "metadata": {}
        },
        {
          "output_type": "stream",
          "name": "stdout",
          "text": [
            "Training accuracy: 76.37%\n",
            "Test accuracy: 75.19%\n",
            "\n",
            "Epoch 6\n"
          ]
        },
        {
          "output_type": "display_data",
          "data": {
            "text/plain": [
              "<IPython.core.display.HTML object>"
            ],
            "text/html": [
              "\n",
              "        <table style=\"width: 100%;\">\n",
              "            <tbody>\n",
              "                <tr>\n",
              "                    <td style=\"width: 30%;\">\n",
              "                     <b>Loss: 0.5745</b> &nbsp&nbsp&nbsp 50000 / 50000\n",
              "                    </td>\n",
              "                    <td style=\"width: 70%;\">\n",
              "                        <progress value='50000' max='50000', style='width: 100%'>50000</progress>\n",
              "                    </td>\n",
              "                </tr>\n",
              "            </tbody>\n",
              "        </table>\n",
              "        "
            ]
          },
          "metadata": {}
        },
        {
          "output_type": "stream",
          "name": "stdout",
          "text": [
            "Training accuracy: 79.87%\n",
            "Test accuracy: 77.71%\n",
            "\n",
            "Epoch 7\n"
          ]
        },
        {
          "output_type": "display_data",
          "data": {
            "text/plain": [
              "<IPython.core.display.HTML object>"
            ],
            "text/html": [
              "\n",
              "        <table style=\"width: 100%;\">\n",
              "            <tbody>\n",
              "                <tr>\n",
              "                    <td style=\"width: 30%;\">\n",
              "                     <b>Loss: 0.4982</b> &nbsp&nbsp&nbsp 50000 / 50000\n",
              "                    </td>\n",
              "                    <td style=\"width: 70%;\">\n",
              "                        <progress value='50000' max='50000', style='width: 100%'>50000</progress>\n",
              "                    </td>\n",
              "                </tr>\n",
              "            </tbody>\n",
              "        </table>\n",
              "        "
            ]
          },
          "metadata": {}
        },
        {
          "output_type": "stream",
          "name": "stdout",
          "text": [
            "Training accuracy: 82.70%\n",
            "Test accuracy: 80.69%\n",
            "\n",
            "Epoch 8\n"
          ]
        },
        {
          "output_type": "display_data",
          "data": {
            "text/plain": [
              "<IPython.core.display.HTML object>"
            ],
            "text/html": [
              "\n",
              "        <table style=\"width: 100%;\">\n",
              "            <tbody>\n",
              "                <tr>\n",
              "                    <td style=\"width: 30%;\">\n",
              "                     <b>Loss: 0.4419</b> &nbsp&nbsp&nbsp 50000 / 50000\n",
              "                    </td>\n",
              "                    <td style=\"width: 70%;\">\n",
              "                        <progress value='50000' max='50000', style='width: 100%'>50000</progress>\n",
              "                    </td>\n",
              "                </tr>\n",
              "            </tbody>\n",
              "        </table>\n",
              "        "
            ]
          },
          "metadata": {}
        },
        {
          "output_type": "stream",
          "name": "stdout",
          "text": [
            "Training accuracy: 84.48%\n",
            "Test accuracy: 80.59%\n",
            "\n",
            "Epoch 9\n"
          ]
        },
        {
          "output_type": "display_data",
          "data": {
            "text/plain": [
              "<IPython.core.display.HTML object>"
            ],
            "text/html": [
              "\n",
              "        <table style=\"width: 100%;\">\n",
              "            <tbody>\n",
              "                <tr>\n",
              "                    <td style=\"width: 30%;\">\n",
              "                     <b>Loss: 0.3895</b> &nbsp&nbsp&nbsp 50000 / 50000\n",
              "                    </td>\n",
              "                    <td style=\"width: 70%;\">\n",
              "                        <progress value='50000' max='50000', style='width: 100%'>50000</progress>\n",
              "                    </td>\n",
              "                </tr>\n",
              "            </tbody>\n",
              "        </table>\n",
              "        "
            ]
          },
          "metadata": {}
        },
        {
          "output_type": "stream",
          "name": "stdout",
          "text": [
            "Training accuracy: 86.48%\n",
            "Test accuracy: 80.94%\n",
            "\n",
            "Epoch 10\n"
          ]
        },
        {
          "output_type": "display_data",
          "data": {
            "text/plain": [
              "<IPython.core.display.HTML object>"
            ],
            "text/html": [
              "\n",
              "        <table style=\"width: 100%;\">\n",
              "            <tbody>\n",
              "                <tr>\n",
              "                    <td style=\"width: 30%;\">\n",
              "                     <b>Loss: 0.3501</b> &nbsp&nbsp&nbsp 50000 / 50000\n",
              "                    </td>\n",
              "                    <td style=\"width: 70%;\">\n",
              "                        <progress value='50000' max='50000', style='width: 100%'>50000</progress>\n",
              "                    </td>\n",
              "                </tr>\n",
              "            </tbody>\n",
              "        </table>\n",
              "        "
            ]
          },
          "metadata": {}
        },
        {
          "output_type": "stream",
          "name": "stdout",
          "text": [
            "Training accuracy: 87.71%\n",
            "Test accuracy: 82.90%\n",
            "\n",
            "Epoch 11\n"
          ]
        },
        {
          "output_type": "display_data",
          "data": {
            "text/plain": [
              "<IPython.core.display.HTML object>"
            ],
            "text/html": [
              "\n",
              "        <table style=\"width: 100%;\">\n",
              "            <tbody>\n",
              "                <tr>\n",
              "                    <td style=\"width: 30%;\">\n",
              "                     <b>Loss: 0.3155</b> &nbsp&nbsp&nbsp 50000 / 50000\n",
              "                    </td>\n",
              "                    <td style=\"width: 70%;\">\n",
              "                        <progress value='50000' max='50000', style='width: 100%'>50000</progress>\n",
              "                    </td>\n",
              "                </tr>\n",
              "            </tbody>\n",
              "        </table>\n",
              "        "
            ]
          },
          "metadata": {}
        },
        {
          "output_type": "stream",
          "name": "stdout",
          "text": [
            "Training accuracy: 88.96%\n",
            "Test accuracy: 84.92%\n",
            "\n",
            "Epoch 12\n"
          ]
        },
        {
          "output_type": "display_data",
          "data": {
            "text/plain": [
              "<IPython.core.display.HTML object>"
            ],
            "text/html": [
              "\n",
              "        <table style=\"width: 100%;\">\n",
              "            <tbody>\n",
              "                <tr>\n",
              "                    <td style=\"width: 30%;\">\n",
              "                     <b>Loss: 0.2815</b> &nbsp&nbsp&nbsp 50000 / 50000\n",
              "                    </td>\n",
              "                    <td style=\"width: 70%;\">\n",
              "                        <progress value='50000' max='50000', style='width: 100%'>50000</progress>\n",
              "                    </td>\n",
              "                </tr>\n",
              "            </tbody>\n",
              "        </table>\n",
              "        "
            ]
          },
          "metadata": {}
        },
        {
          "output_type": "stream",
          "name": "stdout",
          "text": [
            "Training accuracy: 90.28%\n",
            "Test accuracy: 85.87%\n",
            "\n",
            "Epoch 13\n"
          ]
        },
        {
          "output_type": "display_data",
          "data": {
            "text/plain": [
              "<IPython.core.display.HTML object>"
            ],
            "text/html": [
              "\n",
              "        <table style=\"width: 100%;\">\n",
              "            <tbody>\n",
              "                <tr>\n",
              "                    <td style=\"width: 30%;\">\n",
              "                     <b>Loss: 0.2523</b> &nbsp&nbsp&nbsp 50000 / 50000\n",
              "                    </td>\n",
              "                    <td style=\"width: 70%;\">\n",
              "                        <progress value='50000' max='50000', style='width: 100%'>50000</progress>\n",
              "                    </td>\n",
              "                </tr>\n",
              "            </tbody>\n",
              "        </table>\n",
              "        "
            ]
          },
          "metadata": {}
        },
        {
          "output_type": "stream",
          "name": "stdout",
          "text": [
            "Training accuracy: 91.02%\n",
            "Test accuracy: 85.06%\n",
            "\n",
            "Epoch 14\n"
          ]
        },
        {
          "output_type": "display_data",
          "data": {
            "text/plain": [
              "<IPython.core.display.HTML object>"
            ],
            "text/html": [
              "\n",
              "        <table style=\"width: 100%;\">\n",
              "            <tbody>\n",
              "                <tr>\n",
              "                    <td style=\"width: 30%;\">\n",
              "                     <b>Loss: 0.2264</b> &nbsp&nbsp&nbsp 50000 / 50000\n",
              "                    </td>\n",
              "                    <td style=\"width: 70%;\">\n",
              "                        <progress value='50000' max='50000', style='width: 100%'>50000</progress>\n",
              "                    </td>\n",
              "                </tr>\n",
              "            </tbody>\n",
              "        </table>\n",
              "        "
            ]
          },
          "metadata": {}
        },
        {
          "output_type": "stream",
          "name": "stdout",
          "text": [
            "Training accuracy: 91.95%\n",
            "Test accuracy: 83.28%\n",
            "\n",
            "Epoch 15\n"
          ]
        },
        {
          "output_type": "display_data",
          "data": {
            "text/plain": [
              "<IPython.core.display.HTML object>"
            ],
            "text/html": [
              "\n",
              "        <table style=\"width: 100%;\">\n",
              "            <tbody>\n",
              "                <tr>\n",
              "                    <td style=\"width: 30%;\">\n",
              "                     <b>Loss: 0.2011</b> &nbsp&nbsp&nbsp 50000 / 50000\n",
              "                    </td>\n",
              "                    <td style=\"width: 70%;\">\n",
              "                        <progress value='50000' max='50000', style='width: 100%'>50000</progress>\n",
              "                    </td>\n",
              "                </tr>\n",
              "            </tbody>\n",
              "        </table>\n",
              "        "
            ]
          },
          "metadata": {}
        },
        {
          "output_type": "stream",
          "name": "stdout",
          "text": [
            "Training accuracy: 92.92%\n",
            "Test accuracy: 85.95%\n",
            "\n",
            "Epoch 16\n"
          ]
        },
        {
          "output_type": "display_data",
          "data": {
            "text/plain": [
              "<IPython.core.display.HTML object>"
            ],
            "text/html": [
              "\n",
              "        <table style=\"width: 100%;\">\n",
              "            <tbody>\n",
              "                <tr>\n",
              "                    <td style=\"width: 30%;\">\n",
              "                     <b>Loss: 0.1810</b> &nbsp&nbsp&nbsp 50000 / 50000\n",
              "                    </td>\n",
              "                    <td style=\"width: 70%;\">\n",
              "                        <progress value='50000' max='50000', style='width: 100%'>50000</progress>\n",
              "                    </td>\n",
              "                </tr>\n",
              "            </tbody>\n",
              "        </table>\n",
              "        "
            ]
          },
          "metadata": {}
        },
        {
          "output_type": "stream",
          "name": "stdout",
          "text": [
            "Training accuracy: 93.56%\n",
            "Test accuracy: 86.63%\n",
            "\n",
            "Epoch 17\n"
          ]
        },
        {
          "output_type": "display_data",
          "data": {
            "text/plain": [
              "<IPython.core.display.HTML object>"
            ],
            "text/html": [
              "\n",
              "        <table style=\"width: 100%;\">\n",
              "            <tbody>\n",
              "                <tr>\n",
              "                    <td style=\"width: 30%;\">\n",
              "                     <b>Loss: 0.1668</b> &nbsp&nbsp&nbsp 50000 / 50000\n",
              "                    </td>\n",
              "                    <td style=\"width: 70%;\">\n",
              "                        <progress value='50000' max='50000', style='width: 100%'>50000</progress>\n",
              "                    </td>\n",
              "                </tr>\n",
              "            </tbody>\n",
              "        </table>\n",
              "        "
            ]
          },
          "metadata": {}
        },
        {
          "output_type": "stream",
          "name": "stdout",
          "text": [
            "Training accuracy: 94.15%\n",
            "Test accuracy: 86.85%\n",
            "\n",
            "Epoch 18\n"
          ]
        },
        {
          "output_type": "display_data",
          "data": {
            "text/plain": [
              "<IPython.core.display.HTML object>"
            ],
            "text/html": [
              "\n",
              "        <table style=\"width: 100%;\">\n",
              "            <tbody>\n",
              "                <tr>\n",
              "                    <td style=\"width: 30%;\">\n",
              "                     <b>Loss: 0.1453</b> &nbsp&nbsp&nbsp 50000 / 50000\n",
              "                    </td>\n",
              "                    <td style=\"width: 70%;\">\n",
              "                        <progress value='50000' max='50000', style='width: 100%'>50000</progress>\n",
              "                    </td>\n",
              "                </tr>\n",
              "            </tbody>\n",
              "        </table>\n",
              "        "
            ]
          },
          "metadata": {}
        },
        {
          "output_type": "stream",
          "name": "stdout",
          "text": [
            "Training accuracy: 94.91%\n",
            "Test accuracy: 87.47%\n",
            "\n",
            "Epoch 19\n"
          ]
        },
        {
          "output_type": "display_data",
          "data": {
            "text/plain": [
              "<IPython.core.display.HTML object>"
            ],
            "text/html": [
              "\n",
              "        <table style=\"width: 100%;\">\n",
              "            <tbody>\n",
              "                <tr>\n",
              "                    <td style=\"width: 30%;\">\n",
              "                     <b>Loss: 0.1355</b> &nbsp&nbsp&nbsp 50000 / 50000\n",
              "                    </td>\n",
              "                    <td style=\"width: 70%;\">\n",
              "                        <progress value='50000' max='50000', style='width: 100%'>50000</progress>\n",
              "                    </td>\n",
              "                </tr>\n",
              "            </tbody>\n",
              "        </table>\n",
              "        "
            ]
          },
          "metadata": {}
        },
        {
          "output_type": "stream",
          "name": "stdout",
          "text": [
            "Training accuracy: 95.13%\n",
            "Test accuracy: 88.06%\n",
            "\n",
            "Epoch 20\n"
          ]
        },
        {
          "output_type": "display_data",
          "data": {
            "text/plain": [
              "<IPython.core.display.HTML object>"
            ],
            "text/html": [
              "\n",
              "        <table style=\"width: 100%;\">\n",
              "            <tbody>\n",
              "                <tr>\n",
              "                    <td style=\"width: 30%;\">\n",
              "                     <b>Loss: 0.1242</b> &nbsp&nbsp&nbsp 50000 / 50000\n",
              "                    </td>\n",
              "                    <td style=\"width: 70%;\">\n",
              "                        <progress value='50000' max='50000', style='width: 100%'>50000</progress>\n",
              "                    </td>\n",
              "                </tr>\n",
              "            </tbody>\n",
              "        </table>\n",
              "        "
            ]
          },
          "metadata": {}
        },
        {
          "output_type": "stream",
          "name": "stdout",
          "text": [
            "Training accuracy: 95.65%\n",
            "Test accuracy: 86.60%\n",
            "\n",
            "Epoch 21\n"
          ]
        },
        {
          "output_type": "display_data",
          "data": {
            "text/plain": [
              "<IPython.core.display.HTML object>"
            ],
            "text/html": [
              "\n",
              "        <table style=\"width: 100%;\">\n",
              "            <tbody>\n",
              "                <tr>\n",
              "                    <td style=\"width: 30%;\">\n",
              "                     <b>Loss: 0.1202</b> &nbsp&nbsp&nbsp 50000 / 50000\n",
              "                    </td>\n",
              "                    <td style=\"width: 70%;\">\n",
              "                        <progress value='50000' max='50000', style='width: 100%'>50000</progress>\n",
              "                    </td>\n",
              "                </tr>\n",
              "            </tbody>\n",
              "        </table>\n",
              "        "
            ]
          },
          "metadata": {}
        },
        {
          "output_type": "stream",
          "name": "stdout",
          "text": [
            "Training accuracy: 95.74%\n",
            "Test accuracy: 86.80%\n",
            "\n",
            "Epoch 22\n"
          ]
        },
        {
          "output_type": "display_data",
          "data": {
            "text/plain": [
              "<IPython.core.display.HTML object>"
            ],
            "text/html": [
              "\n",
              "        <table style=\"width: 100%;\">\n",
              "            <tbody>\n",
              "                <tr>\n",
              "                    <td style=\"width: 30%;\">\n",
              "                     <b>Loss: 0.1050</b> &nbsp&nbsp&nbsp 50000 / 50000\n",
              "                    </td>\n",
              "                    <td style=\"width: 70%;\">\n",
              "                        <progress value='50000' max='50000', style='width: 100%'>50000</progress>\n",
              "                    </td>\n",
              "                </tr>\n",
              "            </tbody>\n",
              "        </table>\n",
              "        "
            ]
          },
          "metadata": {}
        },
        {
          "output_type": "stream",
          "name": "stdout",
          "text": [
            "Training accuracy: 96.32%\n",
            "Test accuracy: 88.50%\n",
            "\n",
            "Epoch 23\n"
          ]
        },
        {
          "output_type": "display_data",
          "data": {
            "text/plain": [
              "<IPython.core.display.HTML object>"
            ],
            "text/html": [
              "\n",
              "        <table style=\"width: 100%;\">\n",
              "            <tbody>\n",
              "                <tr>\n",
              "                    <td style=\"width: 30%;\">\n",
              "                     <b>Loss: 0.0947</b> &nbsp&nbsp&nbsp 50000 / 50000\n",
              "                    </td>\n",
              "                    <td style=\"width: 70%;\">\n",
              "                        <progress value='50000' max='50000', style='width: 100%'>50000</progress>\n",
              "                    </td>\n",
              "                </tr>\n",
              "            </tbody>\n",
              "        </table>\n",
              "        "
            ]
          },
          "metadata": {}
        },
        {
          "output_type": "stream",
          "name": "stdout",
          "text": [
            "Training accuracy: 96.64%\n",
            "Test accuracy: 87.56%\n",
            "\n",
            "Epoch 24\n"
          ]
        },
        {
          "output_type": "display_data",
          "data": {
            "text/plain": [
              "<IPython.core.display.HTML object>"
            ],
            "text/html": [
              "\n",
              "        <table style=\"width: 100%;\">\n",
              "            <tbody>\n",
              "                <tr>\n",
              "                    <td style=\"width: 30%;\">\n",
              "                     <b>Loss: 0.0897</b> &nbsp&nbsp&nbsp 50000 / 50000\n",
              "                    </td>\n",
              "                    <td style=\"width: 70%;\">\n",
              "                        <progress value='50000' max='50000', style='width: 100%'>50000</progress>\n",
              "                    </td>\n",
              "                </tr>\n",
              "            </tbody>\n",
              "        </table>\n",
              "        "
            ]
          },
          "metadata": {}
        },
        {
          "output_type": "stream",
          "name": "stdout",
          "text": [
            "Training accuracy: 96.83%\n",
            "Test accuracy: 87.73%\n",
            "\n",
            "Epoch 25\n"
          ]
        },
        {
          "output_type": "display_data",
          "data": {
            "text/plain": [
              "<IPython.core.display.HTML object>"
            ],
            "text/html": [
              "\n",
              "        <table style=\"width: 100%;\">\n",
              "            <tbody>\n",
              "                <tr>\n",
              "                    <td style=\"width: 30%;\">\n",
              "                     <b>Loss: 0.0883</b> &nbsp&nbsp&nbsp 50000 / 50000\n",
              "                    </td>\n",
              "                    <td style=\"width: 70%;\">\n",
              "                        <progress value='50000' max='50000', style='width: 100%'>50000</progress>\n",
              "                    </td>\n",
              "                </tr>\n",
              "            </tbody>\n",
              "        </table>\n",
              "        "
            ]
          },
          "metadata": {}
        },
        {
          "output_type": "stream",
          "name": "stdout",
          "text": [
            "Training accuracy: 96.87%\n",
            "Test accuracy: 87.58%\n",
            "\n",
            "Epoch 26\n"
          ]
        },
        {
          "output_type": "display_data",
          "data": {
            "text/plain": [
              "<IPython.core.display.HTML object>"
            ],
            "text/html": [
              "\n",
              "        <table style=\"width: 100%;\">\n",
              "            <tbody>\n",
              "                <tr>\n",
              "                    <td style=\"width: 30%;\">\n",
              "                     <b>Loss: 0.0781</b> &nbsp&nbsp&nbsp 50000 / 50000\n",
              "                    </td>\n",
              "                    <td style=\"width: 70%;\">\n",
              "                        <progress value='50000' max='50000', style='width: 100%'>50000</progress>\n",
              "                    </td>\n",
              "                </tr>\n",
              "            </tbody>\n",
              "        </table>\n",
              "        "
            ]
          },
          "metadata": {}
        },
        {
          "output_type": "stream",
          "name": "stdout",
          "text": [
            "Training accuracy: 97.27%\n",
            "Test accuracy: 86.37%\n",
            "\n",
            "Epoch 27\n"
          ]
        },
        {
          "output_type": "display_data",
          "data": {
            "text/plain": [
              "<IPython.core.display.HTML object>"
            ],
            "text/html": [
              "\n",
              "        <table style=\"width: 100%;\">\n",
              "            <tbody>\n",
              "                <tr>\n",
              "                    <td style=\"width: 30%;\">\n",
              "                     <b>Loss: 0.0788</b> &nbsp&nbsp&nbsp 50000 / 50000\n",
              "                    </td>\n",
              "                    <td style=\"width: 70%;\">\n",
              "                        <progress value='50000' max='50000', style='width: 100%'>50000</progress>\n",
              "                    </td>\n",
              "                </tr>\n",
              "            </tbody>\n",
              "        </table>\n",
              "        "
            ]
          },
          "metadata": {}
        },
        {
          "output_type": "stream",
          "name": "stdout",
          "text": [
            "Training accuracy: 97.28%\n",
            "Test accuracy: 87.73%\n",
            "\n",
            "Epoch 28\n"
          ]
        },
        {
          "output_type": "display_data",
          "data": {
            "text/plain": [
              "<IPython.core.display.HTML object>"
            ],
            "text/html": [
              "\n",
              "        <table style=\"width: 100%;\">\n",
              "            <tbody>\n",
              "                <tr>\n",
              "                    <td style=\"width: 30%;\">\n",
              "                     <b>Loss: 0.0739</b> &nbsp&nbsp&nbsp 50000 / 50000\n",
              "                    </td>\n",
              "                    <td style=\"width: 70%;\">\n",
              "                        <progress value='50000' max='50000', style='width: 100%'>50000</progress>\n",
              "                    </td>\n",
              "                </tr>\n",
              "            </tbody>\n",
              "        </table>\n",
              "        "
            ]
          },
          "metadata": {}
        },
        {
          "output_type": "stream",
          "name": "stdout",
          "text": [
            "Training accuracy: 97.35%\n",
            "Test accuracy: 88.70%\n",
            "\n",
            "Epoch 29\n"
          ]
        },
        {
          "output_type": "display_data",
          "data": {
            "text/plain": [
              "<IPython.core.display.HTML object>"
            ],
            "text/html": [
              "\n",
              "        <table style=\"width: 100%;\">\n",
              "            <tbody>\n",
              "                <tr>\n",
              "                    <td style=\"width: 30%;\">\n",
              "                     <b>Loss: 0.0692</b> &nbsp&nbsp&nbsp 50000 / 50000\n",
              "                    </td>\n",
              "                    <td style=\"width: 70%;\">\n",
              "                        <progress value='50000' max='50000', style='width: 100%'>50000</progress>\n",
              "                    </td>\n",
              "                </tr>\n",
              "            </tbody>\n",
              "        </table>\n",
              "        "
            ]
          },
          "metadata": {}
        },
        {
          "output_type": "stream",
          "name": "stdout",
          "text": [
            "Training accuracy: 97.60%\n",
            "Test accuracy: 88.04%\n",
            "\n",
            "Epoch 30\n"
          ]
        },
        {
          "output_type": "display_data",
          "data": {
            "text/plain": [
              "<IPython.core.display.HTML object>"
            ],
            "text/html": [
              "\n",
              "        <table style=\"width: 100%;\">\n",
              "            <tbody>\n",
              "                <tr>\n",
              "                    <td style=\"width: 30%;\">\n",
              "                     <b>Loss: 0.0658</b> &nbsp&nbsp&nbsp 50000 / 50000\n",
              "                    </td>\n",
              "                    <td style=\"width: 70%;\">\n",
              "                        <progress value='50000' max='50000', style='width: 100%'>50000</progress>\n",
              "                    </td>\n",
              "                </tr>\n",
              "            </tbody>\n",
              "        </table>\n",
              "        "
            ]
          },
          "metadata": {}
        },
        {
          "output_type": "stream",
          "name": "stdout",
          "text": [
            "Training accuracy: 97.78%\n",
            "Test accuracy: 88.26%\n",
            "\n"
          ]
        }
      ],
      "source": [
        "#@title\n",
        "train_losses, test_losses, y_pred = train(optimizer, model, num_epochs=num_epochs)"
      ]
    },
    {
      "cell_type": "markdown",
      "source": [
        "여기까지 진행하고! ipynb 파일 제출해주세요."
      ],
      "metadata": {
        "id": "FBy1PpdRiK7b"
      }
    }
  ],
  "metadata": {
    "accelerator": "GPU",
    "colab": {
      "provenance": []
    },
    "gpuClass": "standard",
    "kernelspec": {
      "display_name": "Python 3",
      "name": "python3"
    }
  },
  "nbformat": 4,
  "nbformat_minor": 0
}