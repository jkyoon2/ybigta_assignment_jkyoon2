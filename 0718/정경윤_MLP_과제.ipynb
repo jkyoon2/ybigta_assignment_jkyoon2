{
  "cells": [
    {
      "cell_type": "markdown",
      "metadata": {
        "id": "4sSY3DjNbPEa"
      },
      "source": [
        "### 필요 Package download"
      ]
    },
    {
      "cell_type": "code",
      "execution_count": 1,
      "metadata": {
        "id": "PK3bVKuBcbZ6"
      },
      "outputs": [],
      "source": [
        "import torch\n",
        "import torchvision\n",
        "import torchvision.transforms as transforms"
      ]
    },
    {
      "cell_type": "code",
      "source": [
        "device = torch.device('cuda' if torch.cuda.is_available() else 'cpu')\n",
        "\n",
        "# 현재 gpu를 사용중이면 cuda로 출력됩니다!:\n",
        "# gpu 변경은 런타임 -> 런타임 유형변경 -> 하드웨어 가속기: GPU로 할 수 있습니다.\n",
        "\n",
        "print(device)"
      ],
      "metadata": {
        "colab": {
          "base_uri": "https://localhost:8080/"
        },
        "id": "B7Jp6DQLn3sz",
        "outputId": "d7d1f4ac-684f-43d7-a207-390dd5298a68"
      },
      "execution_count": 2,
      "outputs": [
        {
          "output_type": "stream",
          "name": "stdout",
          "text": [
            "cuda\n"
          ]
        }
      ]
    },
    {
      "cell_type": "markdown",
      "source": [
        "## 데이터 부연설명\n",
        "* 저희가 사용할 dataset은 cifar-10이라는 이름을 가진, 컬러 이미지 데이터 60,000개가 들어있는\n",
        "dataset입니다. <br>\n",
        "* 해당 dataset은 총 10개의 class로 나누어져 있으며, 이 task는 각 이미지에 대한 image classification의 accuracy를 높이는 것이 목적입니다."
      ],
      "metadata": {
        "id": "W9v_beLpA34L"
      }
    },
    {
      "cell_type": "markdown",
      "source": [
        "### Data Normalize & DataLoader Settting"
      ],
      "metadata": {
        "id": "Z8e8Z-lhhxZ7"
      }
    },
    {
      "cell_type": "code",
      "execution_count": 3,
      "metadata": {
        "colab": {
          "base_uri": "https://localhost:8080/"
        },
        "id": "itmleb14cdyh",
        "outputId": "cbd403a5-5734-4315-f48a-e742438bce1f"
      },
      "outputs": [
        {
          "output_type": "stream",
          "name": "stdout",
          "text": [
            "Downloading https://www.cs.toronto.edu/~kriz/cifar-10-python.tar.gz to ./data/cifar-10-python.tar.gz\n"
          ]
        },
        {
          "output_type": "stream",
          "name": "stderr",
          "text": [
            "100%|██████████| 170498071/170498071 [00:04<00:00, 37165603.91it/s]\n"
          ]
        },
        {
          "output_type": "stream",
          "name": "stdout",
          "text": [
            "Extracting ./data/cifar-10-python.tar.gz to ./data\n",
            "Files already downloaded and verified\n"
          ]
        }
      ],
      "source": [
        "transform = transforms.Compose(\n",
        "    [transforms.ToTensor(),\n",
        "     transforms.Normalize((0.5, 0.5, 0.5), (0.5, 0.5, 0.5))])\n",
        "\n",
        "trainset = torchvision.datasets.CIFAR10(root='./data', train=True,\n",
        "                                        download=True, transform=transform)\n",
        "trainloader = torch.utils.data.DataLoader(trainset, batch_size=4,\n",
        "                                          shuffle=True, num_workers=2)\n",
        "\n",
        "testset = torchvision.datasets.CIFAR10(root='./data', train=False,\n",
        "                                       download=True, transform=transform)\n",
        "testloader = torch.utils.data.DataLoader(testset, batch_size=4,\n",
        "                                         shuffle=False, num_workers=2)\n",
        "\n",
        "classes = ('plane', 'car', 'bird', 'cat',\n",
        "           'deer', 'dog', 'frog', 'horse', 'ship', 'truck')"
      ]
    },
    {
      "cell_type": "code",
      "execution_count": 4,
      "metadata": {
        "colab": {
          "base_uri": "https://localhost:8080/",
          "height": 211
        },
        "id": "ViOCagdocmEt",
        "outputId": "8359a08e-d6c4-4bb1-d535-7316f182f46d"
      },
      "outputs": [
        {
          "output_type": "stream",
          "name": "stdout",
          "text": [
            "  car  frog truck truck\n"
          ]
        },
        {
          "output_type": "display_data",
          "data": {
            "text/plain": [
              "<Figure size 640x480 with 1 Axes>"
            ],
            "image/png": "[encoded data removed]"
          },
          "metadata": {}
        }
      ],
      "source": [
        "import matplotlib.pyplot as plt\n",
        "import numpy as np\n",
        "\n",
        "# 이미지를 보여주기 위한 함수\n",
        "\n",
        "\n",
        "def imshow(img):\n",
        "    img = img / 2 + 0.5     # unnormalize\n",
        "    npimg = img.numpy()\n",
        "    plt.imshow(np.transpose(npimg, (1, 2, 0)))\n",
        "\n",
        "\n",
        "# 학습용 이미지를 무작위로 가져오기\n",
        "dataiter = iter(trainloader)\n",
        "images, labels = dataiter.__next__()\n",
        "\n",
        "# 이미지 보여주기\n",
        "imshow(torchvision.utils.make_grid(images))\n",
        "# 정답(label) 출력\n",
        "print(' '.join('%5s' % classes[labels[j]] for j in range(4)))\n",
        "plt.show()"
      ]
    },
    {
      "cell_type": "code",
      "execution_count": 5,
      "metadata": {
        "id": "TQsfjGTWcm-i"
      },
      "outputs": [],
      "source": [
        "import torch.nn as nn\n",
        "import torch.nn.functional as F\n",
        "\n",
        "\n",
        "class Net(nn.Module):\n",
        "    def __init__(self):\n",
        "        super(Net, self).__init__()\n",
        "        self.conv1 = nn.Conv2d(3, 6, 5) # input channels, output channels, kernel size\n",
        "        self.pool = nn.MaxPool2d(2, 2)  # kernel size, stride, padding = 0 (default)\n",
        "        self.conv2 = nn.Conv2d(6, 16, 5)\n",
        "\n",
        "        self.fc1 = nn.Linear(16 * 5 * 5, 120)   # input features, output features\n",
        "        self.fc2 = nn.Linear(120, 84)\n",
        "        self.fc3 = nn.Linear(84, 48)   # Adding a new fully connected layer\n",
        "        self.fc4 = nn.Linear(48, 24)   # Adding another fully connected layer\n",
        "        self.fc5 = nn.Linear(24, 10)   # Output layer\n",
        "\n",
        "    def forward(self, x):\n",
        "        x = self.pool(F.relu(self.conv1(x)))\n",
        "        x = self.pool(F.relu(self.conv2(x)))\n",
        "        x = x.view(-1, 16 * 5 * 5)\n",
        "\n",
        "        x = F.relu(self.fc1(x))\n",
        "        x = F.relu(self.fc2(x))\n",
        "        x = F.relu(self.fc3(x))  # Applying ReLU activation to the new fully connected layer\n",
        "        x = F.relu(self.fc4(x))  # Applying ReLU activation to the second new fully connected layer\n",
        "        x = self.fc5(x)          # No ReLU activation for the output layer\n",
        "        return x\n",
        "\n",
        "\n",
        "net = Net()"
      ]
    },
    {
      "cell_type": "code",
      "execution_count": 17,
      "metadata": {
        "id": "HmJhscg1dIhs"
      },
      "outputs": [],
      "source": [
        "import torch.optim as optim\n",
        "from torch.optim.lr_scheduler import StepLR\n",
        "\n",
        "#optimizer를 변경하거나 수치를 조정해보는 것도 accuracy를 높이는 데 도움을 줄 수 있습니다!\n",
        "criterion = nn.CrossEntropyLoss()\n",
        "\n",
        "optimizer = optim.Adam(net.parameters(), lr=0.0001)\n",
        "scheduler = StepLR(optimizer, step_size=5, gamma=0.5)  # Reduce the learning rate by half every 5 epochs"
      ]
    },
    {
      "cell_type": "code",
      "execution_count": 18,
      "metadata": {
        "colab": {
          "base_uri": "https://localhost:8080/"
        },
        "id": "wpAa24bGdT3_",
        "outputId": "608e391b-eb03-475b-8b15-042390b16dd1"
      },
      "outputs": [
        {
          "output_type": "stream",
          "name": "stdout",
          "text": [
            "[1,  2000] loss: 1.268\n",
            "[1,  4000] loss: 1.240\n",
            "[1,  6000] loss: 1.219\n",
            "[1,  8000] loss: 1.207\n",
            "[1, 10000] loss: 1.197\n",
            "[1, 12000] loss: 1.217\n",
            "Finished Training\n"
          ]
        }
      ],
      "source": [
        "for epoch in range(1):  # 데이터셋을 n차례 반복하여 학습합니다. 또한 range 속의 숫자도 바꾸어 학습률을 높이는 것도 도움이 될 겁니다!\n",
        "\n",
        "    running_loss = 0.0\n",
        "    for i, data in enumerate(trainloader, 0):\n",
        "        # 입력을 받은 후\n",
        "        inputs, labels = data\n",
        "        # 변화도(Gradient) 매개변수를 0으로 만든 후\n",
        "        optimizer.zero_grad()\n",
        "\n",
        "        # 순전파 + 역전파 + 최적화\n",
        "        outputs = net(inputs)\n",
        "        loss = criterion(outputs, labels)\n",
        "        loss.backward()\n",
        "        optimizer.step()\n",
        "\n",
        "        # 통계 출력\n",
        "\n",
        "        running_loss += loss.item()\n",
        "        # 2000개의 data를 학습할때마다 loss 출력\n",
        "        if i % 2000 == 1999:    # % 뒤에 들어갈 숫자의 크기를 조정하여 batch_size를 조정할 수 있습니다! 그리고 i % n == n-1:로 숫자를 맞춰주셔야 한다는 점 잊지 마세요!\n",
        "            print('[%d, %5d] loss: %.3f' %\n",
        "                  (epoch + 1, i + 1, running_loss / 2000)) # running_loss 우측의 숫자 역시 윗줄에서 바꾼 batch_size로 바꿔주어야 합니다!\n",
        "            running_loss = 0.0\n",
        "\n",
        "print('Finished Training')"
      ]
    },
    {
      "cell_type": "code",
      "source": [
        "dataiter = iter(testloader)\n",
        "images, labels = dataiter.__next__()\n",
        "\n",
        "# print images\n",
        "imshow(torchvision.utils.make_grid(images))\n",
        "print('GroundTruth: ', ' '.join('%5s' % classes[labels[j]] for j in range(4)))\n",
        "plt.show()"
      ],
      "metadata": {
        "colab": {
          "base_uri": "https://localhost:8080/",
          "height": 211
        },
        "id": "rNF7TthMfA37",
        "outputId": "08e88d94-2f1d-4b01-f943-66a0893137d7"
      },
      "execution_count": 19,
      "outputs": [
        {
          "output_type": "stream",
          "name": "stdout",
          "text": [
            "GroundTruth:    cat  ship  ship plane\n"
          ]
        },
        {
          "output_type": "display_data",
          "data": {
            "text/plain": [
              "<Figure size 640x480 with 1 Axes>"
            ],
            "image/png": "[encoded data removed]"
          },
          "metadata": {}
        }
      ]
    },
    {
      "cell_type": "code",
      "source": [
        "outputs = net(images)\n",
        "_, predicted = torch.max(outputs, 1)\n",
        "\n",
        "print('Predicted: ', ' '.join('%5s' % classes[predicted[j]]\n",
        "                              for j in range(4)))"
      ],
      "metadata": {
        "colab": {
          "base_uri": "https://localhost:8080/"
        },
        "id": "NJqS91M8hYv1",
        "outputId": "23483f13-82f6-4145-f3c5-397e526f8737"
      },
      "execution_count": 20,
      "outputs": [
        {
          "output_type": "stream",
          "name": "stdout",
          "text": [
            "Predicted:    cat  ship plane plane\n"
          ]
        }
      ]
    },
    {
      "cell_type": "code",
      "source": [
        "correct = 0\n",
        "total = 0\n",
        "with torch.no_grad():\n",
        "    for data in testloader:\n",
        "        images, labels = data\n",
        "        outputs = net(images)\n",
        "        _, predicted = torch.max(outputs.data, 1)\n",
        "        total += labels.size(0)\n",
        "        correct += (predicted == labels).sum().item()\n",
        "\n",
        "print('Accuracy of the network on the 10000 test images: %d %%' % (\n",
        "    100 * correct / total))"
      ],
      "metadata": {
        "colab": {
          "base_uri": "https://localhost:8080/"
        },
        "id": "wKItpc_2heNT",
        "outputId": "fcaa9e7f-ef73-4ac7-ff70-91034599bfb4"
      },
      "execution_count": 21,
      "outputs": [
        {
          "output_type": "stream",
          "name": "stdout",
          "text": [
            "Accuracy of the network on the 10000 test images: 55 %\n"
          ]
        }
      ]
    },
    {
      "cell_type": "code",
      "source": [
        "class_correct = list(0. for i in range(10))\n",
        "class_total = list(0. for i in range(10))\n",
        "with torch.no_grad():\n",
        "    for data in testloader:\n",
        "        images, labels = data\n",
        "        outputs = net(images)\n",
        "        _, predicted = torch.max(outputs, 1)\n",
        "        c = (predicted == labels).squeeze()\n",
        "        for i in range(4):\n",
        "            label = labels[i]\n",
        "            class_correct[label] += c[i].item()\n",
        "            class_total[label] += 1\n",
        "\n",
        "\n",
        "for i in range(10):\n",
        "    print('Accuracy of %5s : %2d %%' % (\n",
        "        classes[i], 100 * class_correct[i] / class_total[i]))"
      ],
      "metadata": {
        "colab": {
          "base_uri": "https://localhost:8080/"
        },
        "id": "2VD2MZ91hkk1",
        "outputId": "b47f520b-02c4-4c06-8535-7144addec3de"
      },
      "execution_count": 22,
      "outputs": [
        {
          "output_type": "stream",
          "name": "stdout",
          "text": [
            "Accuracy of plane : 63 %\n",
            "Accuracy of   car : 69 %\n",
            "Accuracy of  bird : 35 %\n",
            "Accuracy of   cat : 33 %\n",
            "Accuracy of  deer : 45 %\n",
            "Accuracy of   dog : 45 %\n",
            "Accuracy of  frog : 67 %\n",
            "Accuracy of horse : 62 %\n",
            "Accuracy of  ship : 66 %\n",
            "Accuracy of truck : 62 %\n"
          ]
        }
      ]
    },
    {
      "cell_type": "markdown",
      "source": [
        "출처: https://m.blog.naver.com/ckdgus1433/221406102936의 튜토리얼을 참고하였습니다!"
      ],
      "metadata": {
        "id": "FXdtUROHSU4_"
      }
    },
    {
      "cell_type": "code",
      "source": [],
      "metadata": {
        "id": "BQl-BQnKSUlu"
      },
      "execution_count": null,
      "outputs": []
    },
    {
      "cell_type": "markdown",
      "source": [
        "#과제"
      ],
      "metadata": {
        "id": "SXfXZ7HorjRI"
      }
    },
    {
      "cell_type": "markdown",
      "source": [
        "##1. 실습 파일의 overfitting model의 optimizer, epoch, learning rate 등을 변경하여 실행한 결과와, underfitting의 layer를 2개 이상 추가하여 실행한 결과를 각각 캡처하여 overfit, underfit이라는 이름으로 깃허브에 제출하기.  <br> <br>\n",
        "\n",
        "##2. 과제 파일을 수정하여 Test image에 대한 accuracy를 56% 이상으로 높이고, 모델의 결과에 대한 캡처본과 파일을 모두 깃허브에 제출하기. <br>\n",
        "Hint: 파일 중간중간에 설명이 있는 부분을 참고하시면 아마 될 겁니다!<br>\n",
        "(layer 추가, optimizer 변경, learning rate 조정 등...) <br>\n",
        "\n",
        "##3. MLP model과 기존 ML model의 차이점을 최소 2가지 측면에서 서술하기. <br>\n",
        "1. MLP model은 fully connected multi-layer neural network이다. MLP model은 모델의 결과를 설명하기 어려운 반면, ML model은 간명하게 설명 가능하다.\n",
        "\n",
        "2. ML model은 새로운 데이터가 유입되며 특정 기능을 수행하는 데 점점 더 능숙해지지만, 여전히 인간의 개입이 필요하다. 즉, AI 알고리즘이 부정확한 예측을 반환하면 엔지니어가 개입하여 조정해야한다. 하지만 MLP model은 알고리즘이 자체적인 인공신경망을 통해 예측의 정확성 여부를 스스로 판단할 수 있어 인간의 도움이 필요하지 않다. 즉, ML model은 특성 공학이 필요한 반면, MLP model은 특성 공학이 필요하지 않다.\n",
        "\n",
        "3. 보통 ML model은 CPU로 수행되는 반면, MLP model은 그 복잡성으로 인해 GPU로 수행된다.\n",
        "\n",
        "## 출처\n",
        "- https://www.geeksforgeeks.org/difference-between-machine-learning-and-deep-learning/\n",
        "- https://www.simplilearn.com/tutorials/deep-learning-tutorial/multilayer-perceptron\n",
        "\n"
      ],
      "metadata": {
        "id": "PxXa62w5rmyq"
      }
    }
  ],
  "metadata": {
    "accelerator": "GPU",
    "colab": {
      "provenance": [],
      "gpuType": "T4"
    },
    "kernelspec": {
      "display_name": "Python 3",
      "name": "python3"
    },
    "language_info": {
      "name": "python"
    }
  },
  "nbformat": 4,
  "nbformat_minor": 0
}